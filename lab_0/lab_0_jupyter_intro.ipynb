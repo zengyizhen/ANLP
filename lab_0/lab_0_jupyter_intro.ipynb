{
 "cells": [
  {
   "cell_type": "markdown",
   "id": "ca09c526-aff6-4ef6-8398-1cef0203f785",
   "metadata": {},
   "source": [
    "# Lab 0: Introduction to Jupyter Notebooks in Noteable\n",
    "#### Accelerated Natural Language Processing (INFR11125)"
   ]
  },
  {
   "cell_type": "markdown",
   "id": "ff2c0cf3-8ba8-4a91-83ef-ab7175f0d2d3",
   "metadata": {},
   "source": [
    "## General goals of the ANLP labs\n",
    "\n",
    "Welcome to our first lab! The materials in our labs are designed to help you get familiar with:\n",
    "- some commonly used **tools and packages** for NLP, which you will also need to use in the assignment.\n",
    "- some of the fundamental **concepts** covered in the course, and how they apply in practice.\n",
    "\n",
    "This first lab is self-paced on your own. After this one, each lab is designed to be done during the timetabled lab sessions, when you can get help from your partner and the lab demonstrators. Some labs might take a bit longer, so if you don't finish during the session, please complete the lab on your own time afterward.\n"
   ]
  },
  {
   "cell_type": "markdown",
   "id": "7187d1c2",
   "metadata": {},
   "source": [
    "## What you will learn in this lab\n",
    "\n",
    "This lab introduces Jupyter notebooks, which we will use for the labs throughout this course. We'll be using Noteable, which is a special version of JupyterLab. If you get stuck or want to learn more about Jupyter/Notebooks/JupyterLab/Notable, you can check out the following links:\n",
    "    \n",
    "- [Noteable User Guide](https://noteable.edina.ac.uk/user-guide/) This guide is the most Noteable-specific, and also includes overview information about notebooks and the JupyterLab interface.\n",
    "- [JupyterLab Documentation](https://jupyterlab.readthedocs.io/en/stable/getting_started/overview.html) Less Noteable-specific, but even more information!\n",
    "\n",
    "There's also a lot of help within the Notable interface itself! In the Help tab at the top right, you'll find links to lots of reference materials for various tools we'll use in this course.\n",
    "\n",
    "While we aren't teaching Python in this course, we know many of you are new to it. In this lab, we'll also talk about sources you can use to get help with Python and the Python packages we'll use in this course, as well as some debugging techniques for Jupyter notebooks. Don't worry if you can't understand all the code yet! You might want to come back to the code in this notebook a bit later in the course if you get stuck, or come to the help hours!\n",
    "\n",
    "The below tutorial is focused on JupyterLab and Noteable, but Jupyter notebooks can be run in many environments. Most things will be the same, but the appearance, commands, and the layout of the interface might be a bit different from how it's described here. Further, different editors might have different features: for example, Colab allows real-time collaboration and access to GPUs, but Noteable comes with all the packages you'll need for this course pre-installed and sophisticated debugging features (which we use in this tutorial!)"
   ]
  },
  {
   "cell_type": "markdown",
   "id": "d283ade0",
   "metadata": {},
   "source": [
    "## 1. What is Jupyter?\n",
    "Jupyter is a platform for interactive computational documents called notebooks. A Jupyter notebook is a file type that allows you to weave together code, text, equations/mathematical notation, visualizations and multimedia. They allow you to run code live alongside formatted explanatory text and see the outputs of the code directly alongside the code. Jupyter notebooks are organized into cells--short snippets which are either text or code."
   ]
  },
  {
   "cell_type": "markdown",
   "id": "dc1b1e96-0cc3-4398-afa6-5efcc90e25d5",
   "metadata": {},
   "source": [
    "## 2. Command mode and edit mode"
   ]
  },
  {
   "cell_type": "markdown",
   "id": "385a014b-94ae-4bb0-9c66-5f61629889ba",
   "metadata": {},
   "source": [
    "In the notebook, there are two modes: *edit mode* and *command mode*. By default the notebook begins in *command mode*, where you can select cells. In order to edit a cell, you need to be in *edit mode*."
   ]
  },
  {
   "cell_type": "markdown",
   "id": "844898e1-41e1-4b6a-a228-e31b79c754b5",
   "metadata": {},
   "source": [
    "When you are in command mode, you can press `Enter` to switch to edit mode. The contents of the cell you currently selected will become editable, and a cursor will appear. You can edit the cell, then hit `Escape` when you're done to return to command mode."
   ]
  },
  {
   "cell_type": "markdown",
   "id": "4dc1a2cf-7393-4109-a657-45c7779e3432",
   "metadata": {},
   "source": [
    "**YOU TRY:** Select this cell by clicking on it with the mouse. You should see a blue bar on the left. (You can also use the arrow keys to move the selection around.) Now, press `Enter` to enter edit mode. Notice how the appearance of the cell changes. Make an edit to the cell, then press `Escape` to return to command mode."
   ]
  },
  {
   "cell_type": "markdown",
   "id": "e27f0d27-5dd6-488f-8915-05097a4f8356",
   "metadata": {},
   "source": [
    "You'll notice that while you're now in command mode (arrow keys move between cells), the previous cell still looks like code! This is because Jupyter will only *render* the markdown when you tell it to. To do this, we need to \"run\" the cell by pressing **`Ctrl-Enter`**, and then it will go back to looking like it did originally.\n",
    "\n",
    "**YOU TRY:** Use the arrow keys to select the previous cell, then hit `Ctrl-Enter`. The cell should now look like nicely formatted text again, with the edit you made!"
   ]
  },
  {
   "cell_type": "markdown",
   "id": "562dc809",
   "metadata": {
    "jp-MarkdownHeadingCollapsed": true
   },
   "source": [
    "## 3. Text cells\n",
    "While in this course you'll primarily need to edit code cells, it's worth knowing a little bit about how to edit and format text in Jupyter notebooks. Jupyter notebooks use Markdown, a simple way of typing formatted text without needing buttons for styles. You can make text **bold** or *italic*, or type an equation using LaTeX ($y=m\\cdot x+b$). You can also make headings, lists, and more. \n",
    "\n",
    "If you're interested, you can learn more markdown here:\n",
    "[Markdown cheat sheet](http://nestacms.com/docs/creating-content/markdown-cheat-sheet)\n",
    "\n",
    "**YOU TRY:** Select this cell and hit `Enter` to see the Markdown code used to make this cell. How are we making headings, bold text, and italic text? Try formatting some text of your own. Don't forget to hit `Ctrl-Enter` when you're done to see the result!"
   ]
  },
  {
   "cell_type": "markdown",
   "id": "49786246",
   "metadata": {},
   "source": [
    "## 4. Code cells\n",
    "\n",
    "Cells in a Jupyter notebook are either code cells or markdown (text) cells. In this course, we will use a Python *kernel*, which means Python will be used for executing the code cells. You can also use Jupyter for other programming languages, like R and Julia. When you run a code cell using `Ctrl-Enter`, the output of the code will display below the cell. To the left of a cell, you will see a number in brackets. This helps you keep track of the order in which code cells were executed. Empty brackets indicate that a cell hasn't been run yet. If you re-execute a cell, the number will change.\n",
    "\n",
    "<div class=\"alert alert-danger\">\n",
    "Values defined in one cell stay defined in later cells!! This can cause trouble if you're not careful.\n",
    "</div>\n",
    "\n",
    "**YOU TRY:** Execute the following code cell a few times! What happens?"
   ]
  },
  {
   "cell_type": "code",
   "execution_count": null,
   "id": "33214194",
   "metadata": {},
   "outputs": [],
   "source": [
    "import random\n",
    "\n",
    "print(\"I'm a code cell! I print a random number: \" + str(random.randint(1,10)))"
   ]
  },
  {
   "cell_type": "markdown",
   "id": "34429c81",
   "metadata": {},
   "source": [
    "You don't actually have to include a print statement to display a value in a Jupyter notebook.\n",
    "\n",
    "**YOU TRY:** Run the following code cells. You might find `Shift-Enter` useful--it also runs the current cell, but rather than keeping the same cell selected like `Ctrl-Enter` does, it selects the following cell, so you can run a lot of cells in a row without using the arrow keys. Which cells produce an output, and which don't? What value is displayed, and why?"
   ]
  },
  {
   "cell_type": "code",
   "execution_count": null,
   "id": "ca156439",
   "metadata": {},
   "outputs": [],
   "source": [
    "a = 10\n",
    "b = 20\n",
    "a"
   ]
  },
  {
   "cell_type": "code",
   "execution_count": null,
   "id": "98775042",
   "metadata": {},
   "outputs": [],
   "source": [
    "b"
   ]
  },
  {
   "cell_type": "code",
   "execution_count": null,
   "id": "d5404b62",
   "metadata": {},
   "outputs": [],
   "source": [
    "a\n",
    "b = 30"
   ]
  },
  {
   "cell_type": "code",
   "execution_count": null,
   "id": "b060c0b2",
   "metadata": {},
   "outputs": [],
   "source": [
    "b\n",
    "a"
   ]
  },
  {
   "cell_type": "markdown",
   "id": "d649ff18-41aa-4a21-a9db-4c3a3fcfd094",
   "metadata": {},
   "source": [
    "**YOU TRY:** Create a new cell below this one , either by hitting the + symbol in the menu bar just above the notebook, or by typing `b` in Command Mode. Use `print` to produce more than one line of output from a Jupyter cell (Hint: use two print statements!)\n",
    "\n",
    "![](images/new_cell.png)\n",
    "\n"
   ]
  },
  {
   "cell_type": "markdown",
   "id": "3d73e245-3fd9-418a-907a-dbdbe1aebbe9",
   "metadata": {},
   "source": [
    "## 5. Changing cell types\n",
    "\n",
    "When you're writing a Jupyter notebook, you might accidentally make a code cell when you need a markdown cell, or a markdown cell when you need a code cell. In Noteable, there's a dropdown menu for this just above the notebook:\n",
    "![](images/cell_type_dropdown.png)"
   ]
  },
  {
   "cell_type": "markdown",
   "id": "1fb9d912-3df3-46d3-a294-64da33b40e69",
   "metadata": {},
   "source": [
    "There's also commands for this in Command Mode!\n",
    "- `m` - Changes the current cell into a Markdown cell\n",
    "- `y` - Changes the current cell into a code cell\n",
    "\n",
    "**YOU TRY:** The following four cells have the wrong cell type! Follow the instructions in the cells to convert them to the correct types."
   ]
  },
  {
   "cell_type": "code",
   "execution_count": null,
   "id": "1fc1a082-2a1e-4e30-870c-d8c159816e2a",
   "metadata": {},
   "outputs": [],
   "source": [
    "I'm  a *code* cell, but I should be a *markdown* cell. Use the *dropdown menu* to make me a markdown cell!"
   ]
  },
  {
   "cell_type": "markdown",
   "id": "0441e61e-72f0-4433-b59b-f598cd49ae3d",
   "metadata": {},
   "source": [
    "# I'm a markdown cell, but I should be a code cell. Use the dropdown menu to make me a code cell!\n",
    "\n",
    "import random\n",
    "print(\"Success!\")\n",
    "for _ in range(30):\n",
    "    print(random.choice([\"✨\",\"⭐\",\"🌸\",\"💖\",\"🌟\",\"💫\"]), end=\" \")"
   ]
  },
  {
   "cell_type": "code",
   "execution_count": null,
   "id": "6dc6a80e-7dec-44c3-9c91-731e7969f9f4",
   "metadata": {},
   "outputs": [],
   "source": [
    "I'm  a *code* cell, but I should be a *markdown* cell. Use `m` in Command Mode to make me a markdown cell!"
   ]
  },
  {
   "cell_type": "markdown",
   "id": "eba66486-f7f3-41b8-83b8-82105b63349d",
   "metadata": {},
   "source": [
    "# I'm a markdown cell, but I should be a code cell. Use y in Command Mode to make me a code cell!\n",
    "\n",
    "import random\n",
    "print(\"Success!\")\n",
    "for _ in range(30):\n",
    "    print(random.choice([\"✨\",\"⭐\",\"🌸\",\"💖\",\"🌟\",\"💫\"]), end=\" \")"
   ]
  },
  {
   "cell_type": "markdown",
   "id": "42d9b4aa-aca2-498f-bfb8-52bdb17f8292",
   "metadata": {},
   "source": [
    "## 6. Documentation\n",
    "\n",
    "Sometimes, you might not know or remember exactly how a function works or what argument it takes, or what attributes an object has. Jupyter has some built-in functionality to help with this. You can use `?` in a code cell to pull up the documentation for an object or function.\n",
    "\n",
    "\n",
    "\n",
    "Let's figure out how this line of python code from earlier works using `?`: \n",
    "```python\n",
    "print(\"I'm a code cell! I print a random number: \" + str(random.randint(1,10)))\n",
    "```\n",
    "\n",
    "**YOU TRY:** Create a new cell below this one and put the code `random.randint?` in it, then run it with `Ctrl-` or `Shift-Enter`. What random values can the previous line of python print?\n"
   ]
  },
  {
   "cell_type": "markdown",
   "id": "598657f2-d154-43d4-8d29-185945aff1a2",
   "metadata": {},
   "source": [
    "**YOU TRY:** Create a new cell below this one and put the code `str?` in it, then run it with `Ctrl-` or `Shift-Enter`. What does `str()` do, and why do you think we needed to use it in the example?\n"
   ]
  },
  {
   "cell_type": "markdown",
   "id": "f0830ba6-9ed7-4c27-9e56-8e784fc3144c",
   "metadata": {},
   "source": [
    "Noteable includes a special functionality to check this easily. You can use `<ctrl> + i` or navigate to **Help > Contextual Help** to open a pane which shows you the documentation for whatever python object is under your cursor.\n",
    "\n",
    "**YOU TRY:** Look at the code below. Activate contextual help, then put your cursor inside the `print` function to figure out what the argument `end` does."
   ]
  },
  {
   "cell_type": "code",
   "execution_count": null,
   "id": "6e973c47-7d55-44b4-b471-de4182d1373e",
   "metadata": {},
   "outputs": [],
   "source": [
    "for _ in range(30):\n",
    "    print(random.choice([\"✨\",\"⭐\",\"🌸\",\"💖\",\"🌟\",\"💫\"]), end=\" \")"
   ]
  },
  {
   "cell_type": "markdown",
   "id": "2bb25acb-2a50-4cb7-b77a-a2830dd8f525",
   "metadata": {},
   "source": [
    "## 7. Tab completion\n",
    "\n",
    "That's useful for *understanding* code, but what about when you need to *write* code, and you don't know the name of the function you need? Jupyter includes tab completion for this! When you've typed the name of an object followed by a `.` and your cursor is after the dot, you can hit the `Tab` key to see possible completions. You can use arrow keys or keep hitting `Tab` to cycle through all the possibilities If you remember the start of a function's name, you can type the first few characters, then hit tab, and Jupyter will auto-complete it for you!\n",
    "\n",
    "**YOU TRY:** Below, we have a string that starts with \"My\". In Python, strings have a built in function that lets you check if they start with another string. Use tab completion to find this function and check if the string starts with \"My\" Remember to put your cursor right after the dot!"
   ]
  },
  {
   "cell_type": "code",
   "execution_count": null,
   "id": "9629c169-1b96-4f40-9877-b37ee9ed2c6e",
   "metadata": {},
   "outputs": [],
   "source": [
    "sentence = \"My start is My\""
   ]
  },
  {
   "cell_type": "code",
   "execution_count": null,
   "id": "63cf37fb-9475-4b87-8b4f-9c1d4ab9632f",
   "metadata": {},
   "outputs": [],
   "source": [
    "sentence. # finish me!"
   ]
  },
  {
   "cell_type": "markdown",
   "id": "0140854f-3fec-4986-9c68-dc6db3bf3925",
   "metadata": {},
   "source": [
    "Some of you might have gotten an error just now! If so, it's probably because you forgot to run the cell defining `sentence` before running your solution. In Jupyter, *the order in which you execute cells matters.* This can be very dangerous and easily lead to mistakes!"
   ]
  },
  {
   "cell_type": "markdown",
   "id": "1478a9b9-d238-4d36-98a8-3086e3c17c52",
   "metadata": {},
   "source": [
    "## 8. The kernel"
   ]
  },
  {
   "cell_type": "markdown",
   "id": "6c3e1046-80e9-47d5-b3ab-5d38206692c5",
   "metadata": {},
   "source": [
    "When you first start a notebook, you are also starting what is called a *kernel*. This is a special program that runs in the background and executes Python code. Whenever you run a code cell, you are telling the kernel to execute the code that is in the cell, and to print the output (if any)."
   ]
  },
  {
   "cell_type": "markdown",
   "id": "b6b27d0b-0958-4d05-b6a6-39019f047725",
   "metadata": {},
   "source": [
    "### Restarting the kernel"
   ]
  },
  {
   "cell_type": "markdown",
   "id": "53930e96-758d-466e-9da8-d99c1ae31385",
   "metadata": {},
   "source": [
    "It is generally a good idea to periodically restart the kernel and start fresh, because you may be using some variables that you declared at some point, but at a later point deleted that declaration. This means your code won't work when someone tries to run it from scratch."
   ]
  },
  {
   "cell_type": "markdown",
   "id": "10625b5a-709e-4b10-ae7a-a241f3a0ef8e",
   "metadata": {},
   "source": [
    "<div class=\"alert alert-danger\">\n",
    "Your code should <b>always</b> be able to work if you run every cell in the notebook, <i>in order</i>, starting from a new kernel. </div>"
   ]
  },
  {
   "cell_type": "markdown",
   "id": "a1a6dca5-0dc6-4b29-a3c3-8b3d5d98314f",
   "metadata": {},
   "source": [
    "To test that your code can do this, first restart the kernel by clicking the restart button:\n",
    "\n",
    "![](images/restart.png)"
   ]
  },
  {
   "cell_type": "markdown",
   "id": "8ce66936-2636-411f-886f-dd2c84d40521",
   "metadata": {},
   "source": [
    "Then, run all cells in the notebook in order by choosing **Cell$\\rightarrow$Run All** from the menu above."
   ]
  },
  {
   "cell_type": "markdown",
   "id": "1e7cdf86-cfa5-4107-bfbf-82b9a139d2f0",
   "metadata": {},
   "source": [
    "## Interrupting the kernel\n",
    "\n",
    "Sometimes, you might start running a Python cell that takes a long time to execute, and realize you don't want it to (Because it has a bug, because it takes too much memory and will crash the kernel, because you don't want to wait for it to execute). In these cases, you don't have to restart the kernel, but you can *interrupt* it, by hitting the square stop symbol just to the left of the restart kernel button in the menu bar."
   ]
  },
  {
   "cell_type": "markdown",
   "id": "cfb86c8d-6d6d-4cf9-8811-7dbfa2bcf135",
   "metadata": {},
   "source": [
    "## 9. Debugging in Noteable\n",
    "\n",
    "As we mentioned previously, one thing to be very careful about with Jupyter notebooks is that variables will retain their value across cells until they are redefined or the session is restarted. This means it is easy to accidentally make errors by accessing a variable that is incorrectly defined or has been deleted. "
   ]
  },
  {
   "cell_type": "markdown",
   "id": "5c1e1c80-1f4b-4319-821f-9b6a7eb0d868",
   "metadata": {},
   "source": [
    "As an example, say your lab partner wrote the following code, which finds the longest word in `sentence` and tries to print it out letter by letter. Your partner meant to type `j` inside the loop in the second cell, but they're wondering why it printed out \"r\" 5 times instead of crashing.\n",
    "\n",
    "**YOU TRY:** Run the below code.\n"
   ]
  },
  {
   "cell_type": "code",
   "execution_count": null,
   "id": "f2cb5134",
   "metadata": {},
   "outputs": [],
   "source": [
    "# lets find the longest word!\n",
    "sentence = \"My start is My\".split() # check what the value of sentence is, and the documentation for split() if you're not sure!\n",
    "longest_word = \"\"\n",
    "for i in range(len(sentence)):\n",
    "    if len(sentence[i]) > len(longest_word):\n",
    "        longest_word = sentence[i]"
   ]
  },
  {
   "cell_type": "code",
   "execution_count": null,
   "id": "42fee681",
   "metadata": {},
   "outputs": [],
   "source": [
    "# print all the letters in the longest word\n",
    "for j in range(len(longest_word)):\n",
    "    print(longest_word[i]) # oops, we meant to type j"
   ]
  },
  {
   "cell_type": "markdown",
   "id": "5dc23bb8-0b8c-4b0f-a391-7af6152e03cc",
   "metadata": {},
   "source": [
    "Jupyter allows us to inspect the current value of all variables using its built in debugger. You can open the debugger using the bug icon in the menu bar:\n",
    "![](images/debug.png)\n",
    "\n",
    "**YOU TRY:** Open the debugger, and find the value of `i`. Why do you think it has this value? Does it make sense why the code prints out \"r\" 5 times?"
   ]
  },
  {
   "cell_type": "markdown",
   "id": "64298629-7492-4f6e-a931-013a10bee877",
   "metadata": {},
   "source": [
    "The debugger is also useful when your code has an error--you can inspect the value of the variables before the error to figure out why the error is happening. \n",
    "\n",
    "Pretend again that your lab partner wrote the below cell, thinking that the value of sentence is the string \"My start is My\", and they're wondering why they get an error when they run it. \n",
    "\n",
    "**YOU TRY:** Run the below cell. Find the value of sentence in the debugger, and use it to explain why 6 is out of range. Bonus: use `?` or contextual help to show the documentation for `split` and explain how it made the value of sentence what it is."
   ]
  },
  {
   "cell_type": "code",
   "execution_count": null,
   "id": "fb483a1c-2579-4469-abd5-0d8c86df020e",
   "metadata": {},
   "outputs": [],
   "source": [
    "sentence[6]"
   ]
  },
  {
   "cell_type": "markdown",
   "id": "4941b8f3-7575-4240-a564-57159fef1601",
   "metadata": {},
   "source": [
    "Another useful command you can use in a code cell is `%history`. This is a special Jupyter functionality called a \"magic command\". They allow you to access extra information or process different types of data than vanilla Python. In this case, `%history` shows us all the Python code which has been executed and the order.\n",
    "\n",
    "While we won't be relying on magic commands in this course, you can learn more about the available commands [here](https://ipython.readthedocs.io/en/stable/interactive/magics.html).\n",
    "\n",
    "**YOU TRY:** Run the below cell and use it to find where in the command history `sentence` was redfined to have a length shorter than 6."
   ]
  },
  {
   "cell_type": "code",
   "execution_count": null,
   "id": "6c1670c6",
   "metadata": {},
   "outputs": [],
   "source": [
    "%history"
   ]
  },
  {
   "cell_type": "markdown",
   "id": "c4c6aaf0",
   "metadata": {},
   "source": [
    "## 10. Advanced Command Mode.\n",
    "So far in this tutorial, we've introduced a range of commands, summarized below:\n",
    "- `Ctrl + Shift + h` - Brings up help window (contains full list of commands!)\n",
    "- `Up` - select the previous cell\n",
    "- `Down` - select the next cell\n",
    "- `Enter` - Enters Edit Mode\n",
    "- `m` - Converts a cell to Markdown\n",
    "- `y` - Converts a cell to code\n",
    "- `b` - Creates a new cell below the currently selected one\n",
    "\n",
    "However, there are many more useful commands:\n",
    "- `a` - Creates a new cell above the currently selected one\n",
    "- `Shift + Up/Down` - select multiple cells above/below\n",
    "- `dd` - Deletes the selected cell (press 'd' twice in a row)\n",
    "- `Shift + m`  - Merge the selected cells with the following one\n",
    "- `c` - Copy selected cell(s)\n",
    "- `v` - Paste cell(s)\n",
    "- `z` - Undo cell(!) action\n",
    "- `Shift + z` - Redo cell action\n",
    "\n",
    "**YOU TRY:** Use `Shift + Down` to select the following blank cells, and `Shift + m` to merge them. Then use `dd` to delete the merged cell, and `z` twice to restore the merged cell and unmerge it."
   ]
  },
  {
   "cell_type": "code",
   "execution_count": null,
   "id": "a5dcdcfb-01b1-4f17-99af-425ee738a0c7",
   "metadata": {},
   "outputs": [],
   "source": []
  },
  {
   "cell_type": "code",
   "execution_count": null,
   "id": "8ea17aca-19de-45db-a82f-82588e636bec",
   "metadata": {},
   "outputs": [],
   "source": []
  },
  {
   "cell_type": "code",
   "execution_count": null,
   "id": "e00714a1-7175-4005-b4d8-f12bba820cfa",
   "metadata": {},
   "outputs": [],
   "source": []
  },
  {
   "cell_type": "code",
   "execution_count": null,
   "id": "71329db8-fdcb-4690-96a4-2c93ec13f631",
   "metadata": {},
   "outputs": [],
   "source": []
  }
 ],
 "metadata": {
  "kernelspec": {
   "display_name": "Python 3 (ipykernel)",
   "language": "python",
   "name": "python3"
  },
  "language_info": {
   "codemirror_mode": {
    "name": "ipython",
    "version": 3
   },
   "file_extension": ".py",
   "mimetype": "text/x-python",
   "name": "python",
   "nbconvert_exporter": "python",
   "pygments_lexer": "ipython3",
   "version": "3.12.11"
  }
 },
 "nbformat": 4,
 "nbformat_minor": 5
}
