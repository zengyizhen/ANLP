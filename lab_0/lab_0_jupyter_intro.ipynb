{
 "cells": [
  {
   "cell_type": "markdown",
   "id": "ca09c526-aff6-4ef6-8398-1cef0203f785",
   "metadata": {
    "editable": true,
    "slideshow": {
     "slide_type": ""
    },
    "tags": []
   },
   "source": [
    "# Lab 0: Introduction to Jupyter Notebooks in Noteable\n",
    "#### Accelerated Natural Language Processing (INFR11125)"
   ]
  },
  {
   "cell_type": "markdown",
   "id": "ff2c0cf3-8ba8-4a91-83ef-ab7175f0d2d3",
   "metadata": {},
   "source": [
    "## General goals of the ANLP labs\n",
    "\n",
    "Welcome to our first lab! The materials in our labs are designed to help you get familiar with:\n",
    "- some commonly used **tools and packages** for NLP, which you will also need to use in the assignment.\n",
    "- some of the fundamental **concepts** covered in the course, and how they apply in practice.\n",
    "\n",
    "This first lab is self-paced on your own. After this one, each lab is designed to be done during the timetabled lab sessions, when you can get help from a partner and the lab demonstrators. Some labs might take a bit longer, so if you don't finish during the session, please complete the lab on your own time afterward.\n"
   ]
  },
  {
   "cell_type": "markdown",
   "id": "cdfad5e7-c4a5-40c0-a59e-b13d9026c2a5",
   "metadata": {},
   "source": [
    "## What you will learn in this lab"
   ]
  },
  {
   "cell_type": "markdown",
   "id": "d90f0f31-06a5-429c-a8b2-4616da76a734",
   "metadata": {},
   "source": [
    "This lab does not cover any NLP concepts, but is designed to introduce you to Noteable, which we will be using for the rest of the labs.  After completing it, you should be ready to get going on Lab 1 next week, where we will start working with language data!\n",
    "\n",
    "The lab has three parts:\n",
    "\n",
    "### Part 1: Basics of notebooks\n",
    "\n",
    "- What is a notebook; how to make basic edits and understand the kernel.\n",
    "\n",
    "### Part 2: Tools for productivity and debugging\n",
    "\n",
    "- Ways to access documentation; the debugger and defensive coding tips; and useful keyboard shortcuts.\n",
    "\n",
    "### Part 3: Tips for the remaining labs\n",
    "\n",
    "- A very brief section to read before attending the first lab session.\n",
    "\n",
    "  "
   ]
  },
  {
   "cell_type": "markdown",
   "id": "e9cff306-395d-49df-8ebc-30061959434b",
   "metadata": {},
   "source": [
    "## Different paths for different students\n",
    "\n",
    "### If you've used Jupyter notebooks before:\n",
    "- You can skim through **Part 1** quickly, but don't skip it entirely since there will likely be small differences between Noteable and other notebook interfaces you've used.\n",
    "- Please work through **Parts 2 and 3** in full! Noteable has more/better debugging tools than many notebooks, so you'll almost certainly find some new things here.\n",
    "\n",
    "### If you are new to programming/Python:\n",
    "- You should aim to complete all parts of the lab. However, if you are finding the debugging sections in Part 2 hard to follow in Week 1, you may skip over them and come back to them in Week 2 or 3 after you've had slightly more programming practice. Or, visit the TA help hour!\n",
    "\n",
    "### All students:\n",
    "- The lab includes many parts for you to do, indicated with **YOU TRY:**. We hope these should be self-explanatory, but things can always proceed unexpectedly. If something isn't working for you, please do re-read the instructions and check again, but don't spend more than 5-10 minutes on any given section if you get stuck! Post to Piazza or visit the TA help hour."
   ]
  },
  {
   "cell_type": "markdown",
   "id": "7187d1c2",
   "metadata": {},
   "source": [
    "# Part 1: Basics of notebooks"
   ]
  },
  {
   "cell_type": "markdown",
   "id": "d283ade0",
   "metadata": {},
   "source": [
    "## 1. What is Jupyter? What is Noteable?\n",
    "Jupyter is a platform for interactive computational documents called notebooks. A Jupyter notebook is a file type that allows you to weave together code, text, equations/mathematical notation, visualizations and multimedia. Notebooks allow you to run code and see its outputs, right alongside formatted explanatory text. Jupyter notebooks are organized into *cells*--short snippets which are either text or code.\n",
    "\n",
    "In this course, we'll be using *Noteable*, which is the University of Edinburgh's own version of JupyterLab. \n",
    "This tutorial therefore focuses on JupyterLab and Noteable, but Jupyter notebooks can be run in many environments. The way the notebooks work will basically be the same, but the appearance, commands, and the layout of the interface might be a bit different from how it's described here. \n",
    "\n",
    "Further, different notebook editors might have different features: for example, Colab allows real-time collaboration and access to GPUs, but Noteable comes with all the packages you'll need for this course pre-installed and sophisticated debugging features (which we will demonstrate in this tutorial!)\n"
   ]
  },
  {
   "cell_type": "markdown",
   "id": "447523de-cddd-4b76-9b0c-a3c5f1d2bf2d",
   "metadata": {
    "jp-MarkdownHeadingCollapsed": true
   },
   "source": [
    "## 2. Where to get help beyond this tutorial\n",
    "\n",
    "This tutorial should be self-contained, but if you do get stuck or want to learn more about Jupyter/Notebooks/JupyterLab/Notable, you can check out the following links:\n",
    "    \n",
    "- [Noteable User Guide](https://noteable.edina.ac.uk/user-guide/) This guide is the most Noteable-specific, and also includes overview information about notebooks and the JupyterLab interface.\n",
    "- [JupyterLab Documentation](https://jupyterlab.readthedocs.io/en/stable/getting_started/overview.html) Less Noteable-specific, but even more information!\n",
    "\n",
    "There's also a lot of help within the Notable interface itself! In the Help tab at the top right, you'll find links to lots of reference materials for various tools we'll use in this course."
   ]
  },
  {
   "cell_type": "markdown",
   "id": "dc1b1e96-0cc3-4398-afa6-5efcc90e25d5",
   "metadata": {},
   "source": [
    "## 3. Command mode and edit mode"
   ]
  },
  {
   "cell_type": "markdown",
   "id": "385a014b-94ae-4bb0-9c66-5f61629889ba",
   "metadata": {},
   "source": [
    "In the notebook, there are two modes: *edit mode* and *command mode*. By default the notebook begins in *command mode*, where you can select cells. In order to edit a cell, you need to be in *edit mode*."
   ]
  },
  {
   "cell_type": "markdown",
   "id": "844898e1-41e1-4b6a-a228-e31b79c754b5",
   "metadata": {},
   "source": [
    "When you are in command mode, you can press `Enter` to switch to edit mode. The contents of the cell you currently selected will become editable, and a cursor will appear. You can edit the cell, then hit `Escape` when you're done to return to command mode."
   ]
  },
  {
   "cell_type": "markdown",
   "id": "4dc1a2cf-7393-4109-a657-45c7779e3432",
   "metadata": {},
   "source": [
    "**YOU TRY:** Select this cell by clicking on it with the mouse. You should see a blue bar on the left. (You can also use the arrow keys to select a different cell.) Now, press `Enter` to enter edit mode. Notice how the appearance of the cell changes. Make an edit to the cell, then press `Escape` to return to command mode."
   ]
  },
  {
   "cell_type": "markdown",
   "id": "e27f0d27-5dd6-488f-8915-05097a4f8356",
   "metadata": {},
   "source": [
    "You'll notice that while you're now in command mode (arrow keys move between cells), the previous cell still looks like code! This is because Jupyter will only *render* the text when you tell it to. To do this, we need to \"run\" the cell by pressing **`Ctrl-Enter`**, and then it will go back to looking like it did originally.\n",
    "\n",
    "**YOU TRY:** Use the arrow keys to select the previous cell, then hit `Ctrl-Enter`. The cell should now look like nicely formatted text again, with the edit you made!"
   ]
  },
  {
   "cell_type": "markdown",
   "id": "562dc809",
   "metadata": {},
   "source": [
    "## 4. Text cells\n",
    "\n",
    "Cells in a Jupyter notebook are either *code cells* or *markdown (text) cells*. In this course you'll mainly need to edit code cells. Still, it's worth knowing a little bit about how to edit and format text in Jupyter notebooks. Jupyter notebooks use *Markdown*, a simple way of typing formatted text without needing buttons for styles. You can make text **bold** or *italic*, or type an equation using LaTeX ($y=m\\cdot x+b$). You can also make headings, lists, and more. \n",
    "\n",
    "If you're interested, you can learn more markdown here:\n",
    "[Markdown cheat sheet](http://nestacms.com/docs/creating-content/markdown-cheat-sheet)\n",
    "\n",
    "**YOU TRY:** Select this cell and hit `Enter` to see the Markdown code used to make this cell. How are we making headings, bold text, and italic text? Try formatting some text of your own. Don't forget to hit `Ctrl-Enter` when you're done to see the result!"
   ]
  },
  {
   "cell_type": "markdown",
   "id": "e739e029-ef4c-477e-9fc6-c51302f4b7e1",
   "metadata": {},
   "source": [
    "## 5. Code cells"
   ]
  },
  {
   "cell_type": "markdown",
   "id": "731bb058-499b-4784-b5e7-1aac3ae0b23e",
   "metadata": {},
   "source": [
    "The other kind of cell is a *code cell*, where you can write executable code. In this course, we will use a Python *kernel*, which means Python will be used for executing (running) the code cells. You can also use Jupyter for other programming languages, like R and Julia. \n",
    "\n",
    "When you run a code cell using `Ctrl-Enter`, the output of the code will display below the cell. To the left of a cell, you will see a number in brackets. This helps you keep track of the order in which code cells were executed. Empty brackets indicate that a cell hasn't been run yet. If you re-run a cell, the number will change.\n",
    "\n",
    "<div class=\"alert alert-danger\">\n",
    "Values defined in one cell stay defined in later cells!! This can cause trouble if you're not careful.\n",
    "</div>"
   ]
  },
  {
   "cell_type": "markdown",
   "id": "709c37d1-81ea-49ce-ad21-22a892ffdf39",
   "metadata": {},
   "source": [
    "**YOU TRY:** Select the following code cell, and execute it a few times! (Remember, `Ctrl-Enter` to execute.) What happens?"
   ]
  },
  {
   "cell_type": "code",
   "execution_count": null,
   "id": "33214194",
   "metadata": {},
   "outputs": [],
   "source": [
    "import random\n",
    "\n",
    "print(\"I'm a code cell! I print a random number: \" + str(random.randint(1,10)))"
   ]
  },
  {
   "cell_type": "markdown",
   "id": "34429c81",
   "metadata": {},
   "source": [
    "You don't actually have to include a print statement to display a value in a Jupyter notebook.\n",
    "\n",
    "**YOU TRY:** Run the following code cells, in order. You might find `Shift-Enter` useful--it runs the current cell, but rather than keeping the same cell selected like `Ctrl-Enter` does, it selects the following cell, so you can run a lot of cells in a row without using the arrow keys. Which cells produce an output, and which don't? What value is displayed, and why?"
   ]
  },
  {
   "cell_type": "code",
   "execution_count": null,
   "id": "ca156439",
   "metadata": {},
   "outputs": [],
   "source": [
    "a = 10\n",
    "b = 20\n",
    "a"
   ]
  },
  {
   "cell_type": "code",
   "execution_count": null,
   "id": "98775042",
   "metadata": {},
   "outputs": [],
   "source": [
    "b"
   ]
  },
  {
   "cell_type": "code",
   "execution_count": null,
   "id": "d5404b62",
   "metadata": {},
   "outputs": [],
   "source": [
    "a\n",
    "b = 30"
   ]
  },
  {
   "cell_type": "code",
   "execution_count": null,
   "id": "b060c0b2",
   "metadata": {},
   "outputs": [],
   "source": [
    "b\n",
    "a"
   ]
  },
  {
   "cell_type": "markdown",
   "id": "7ca04d75-c2ce-498d-8a85-10e20b1fd931",
   "metadata": {},
   "source": [
    "Notice that only the value of the final line of code is shown as output (and some lines, like `b=30`, don't output anything). If you want to print more than one value, you need to use `print` statements. "
   ]
  },
  {
   "cell_type": "markdown",
   "id": "d649ff18-41aa-4a21-a9db-4c3a3fcfd094",
   "metadata": {},
   "source": [
    "**YOU TRY:** Create a new cell below this one , either by hitting the + symbol in the menu bar just above the notebook, or by typing `b` in Command Mode. \n",
    "\n",
    "![](images/new_cell.png)\n",
    "\n",
    "**YOU TRY:** Now, in your new cell, add `print` statement(s) to output the values of both `a` and `b`. Before you  execute the cell, look at the cells you ran above, and predict what values will be printed. (Hint: you can use a single print statement to print both variables on one line, or two print statements to print them on separate lines.) Once you've made your prediction, run the cell and check you were right!\n",
    "\n",
    "\n",
    "\n"
   ]
  },
  {
   "cell_type": "markdown",
   "id": "11141559-f841-43fb-bc96-1f567fd99bf2",
   "metadata": {},
   "source": [
    "**YOU TRY:** A common source of bugs/confusion in Jupyter notebooks is forgetting to run cells, or running them out of order. To see why, try re-running just the first cell in the sequence above, where `a` and `b` were assigned the values of 10 and 20. Now re-run the cell you added, that prints out `a` and `b`. What is the result? Is it the same or different from what you would get if you ran all the cells in order?"
   ]
  },
  {
   "cell_type": "markdown",
   "id": "60af5833-80c6-48cd-bd60-7dcf511295ea",
   "metadata": {},
   "source": [
    "<div class=\"alert alert-danger\">\n",
    "You must ensure that your code <b>always</b> works if you run every cell in the notebook <b>in order</b>, starting from a new kernel (i.e., without any variables defined). </div>\n",
    "\n",
    "We'll talk about how to test for this a bit later, when we discuss the kernel."
   ]
  },
  {
   "cell_type": "markdown",
   "id": "3d73e245-3fd9-418a-907a-dbdbe1aebbe9",
   "metadata": {},
   "source": [
    "## 6. Changing cell types"
   ]
  },
  {
   "cell_type": "markdown",
   "id": "ace0674c-1073-4827-a99b-86185bf3b97b",
   "metadata": {},
   "source": [
    "When you're writing a Jupyter notebook, you might accidentally make a code cell when you need a markdown cell, or vice versa. In Noteable, there's a dropdown menu just above the notebook where you can change the cell type:\n",
    "\n",
    "![](images/cell_type_dropdown.png)"
   ]
  },
  {
   "cell_type": "markdown",
   "id": "1fb9d912-3df3-46d3-a294-64da33b40e69",
   "metadata": {},
   "source": [
    "There's also commands for this in Command Mode!\n",
    "- `m` - Changes the current cell into a Markdown cell\n",
    "- `y` - Changes the current cell into a code cell\n",
    "\n",
    "**YOU TRY:** The following four cells have the wrong cell type! Follow the instructions in the cells to convert them to the correct types."
   ]
  },
  {
   "cell_type": "code",
   "execution_count": null,
   "id": "4c45ecdd-3b6d-4a6d-96d4-cb0c42401d29",
   "metadata": {},
   "outputs": [],
   "source": [
    "I'm  a *code* cell, but I should be a *markdown* cell. Turn me into a markdown cell!"
   ]
  },
  {
   "cell_type": "code",
   "execution_count": null,
   "id": "22571026-167f-429a-bc04-347049dfbdcb",
   "metadata": {},
   "outputs": [],
   "source": [
    "# I'm a markdown cell, but I should be a code cell. Turn me into a code cell!\n",
    "\n",
    "import random\n",
    "print(\"Success!\")\n",
    "for _ in range(30):\n",
    "    print(random.choice([\"✨\",\"⭐\",\"🌸\",\"💖\",\"🌟\",\"💫\"]), end=\" \")"
   ]
  },
  {
   "cell_type": "markdown",
   "id": "ffcb635d-ec30-418c-9b2a-1e2c54da6cb0",
   "metadata": {},
   "source": [
    "**YOU TRY:** If you haven't already, run the two cells you just converted, to make sure they work as intended. Then, try changing them back to the wrong kind of cell using whichever method you didn't use before: if you used the menu bar, try using Command Mode; or vice versa."
   ]
  },
  {
   "cell_type": "markdown",
   "id": "ebe8c915-f690-4d8d-aa4c-658c2957273a",
   "metadata": {},
   "source": [
    "## 7. Saving your work"
   ]
  },
  {
   "cell_type": "markdown",
   "id": "131e90fa-d6c4-43a0-8d1a-43be4b337a73",
   "metadata": {
    "jp-MarkdownHeadingCollapsed": true
   },
   "source": [
    "Normally, your work will automatically be saved, so if you start a new Noteable session, you can pick up where you left off. However,\n",
    "\n",
    "<div class=\"alert alert-danger\">\n",
    "If you leave your Noteable window open in a browser but are not working on it for a long time, you may get logged out (possibly without any immediately obvious signs), and changes you make might <b>not</b> be saved.\n",
    "</div>\n",
    "\n",
    "You'll likely notice problems relatively soon (e.g., your code may not run, you may get an error message about the kernel or be unable to restart it). But to be safe, we suggest you **close any Noteable windows if you're taking a break**, and restart/login again when you return, using https://noteable.edina.ac.uk/login. "
   ]
  },
  {
   "cell_type": "markdown",
   "id": "1478a9b9-d238-4d36-98a8-3086e3c17c52",
   "metadata": {},
   "source": [
    "## 8. The kernel"
   ]
  },
  {
   "cell_type": "markdown",
   "id": "6c3e1046-80e9-47d5-b3ab-5d38206692c5",
   "metadata": {},
   "source": [
    "When you first start a notebook, you are also starting what is called a *kernel*. This is a special program that runs in the background and executes Python code. Whenever you run a code cell, you are telling the kernel to execute the code that is in the cell, and to print the output (if any)."
   ]
  },
  {
   "cell_type": "markdown",
   "id": "b6b27d0b-0958-4d05-b6a6-39019f047725",
   "metadata": {},
   "source": [
    "### Restarting the kernel"
   ]
  },
  {
   "cell_type": "markdown",
   "id": "53930e96-758d-466e-9da8-d99c1ae31385",
   "metadata": {},
   "source": [
    "It is generally a good idea to periodically restart the kernel and start fresh, because you may be using some variables that you declared at some point, but at a later point deleted that declaration. This means your code won't work when it's run from scratch."
   ]
  },
  {
   "cell_type": "markdown",
   "id": "a1a6dca5-0dc6-4b29-a3c3-8b3d5d98314f",
   "metadata": {},
   "source": [
    "**YOU TRY:** To test that this notebook works from scratch, first restart the kernel by clicking the restart button. You'll get a pop-up reminder that all variables will be lost. Since that's exactly what we want now, confirm that you want to restart.\n",
    "\n",
    "![](images/restart.png)"
   ]
  },
  {
   "cell_type": "markdown",
   "id": "9927d5c6-3670-480a-81e3-aad9fdda7e45",
   "metadata": {},
   "source": [
    "**YOU TRY:** Before you do anything else, go back to the earlier part of the lab where you printed out the values of `a` and `b`. Notice that the output is still visible. However, if you re-run the cell that prints both `a` and `b`, you should get an error. That's because restarting the kernel does not clear output, but it does clear all the variables in your code."
   ]
  },
  {
   "cell_type": "markdown",
   "id": "8ce66936-2636-411f-886f-dd2c84d40521",
   "metadata": {},
   "source": [
    "So, how do we test the code? You could re-run each cell by hand, but that's annoying. There are a few other options, available in the **Run** menu.\n",
    "\n",
    "**YOU TRY:** For now, choose **Run$\\rightarrow$Run All Above Selected Cell**, because we'd like to walk you through the cells after this point one at a time. You should now see that your `print` statement is working correctly.\n",
    "\n",
    "To test a whole notebook at once, you can simply click on the double triangle, or on **Run$\\rightarrow$Run All Cells**. "
   ]
  },
  {
   "cell_type": "markdown",
   "id": "1e7cdf86-cfa5-4107-bfbf-82b9a139d2f0",
   "metadata": {},
   "source": [
    "### Interrupting the kernel\n",
    "\n",
    "Sometimes, you might start running a Python cell that takes a long time to execute, and realize you don't want it to (e.g., because it has a bug, because it takes too much memory and will crash the kernel, or because you don't want to wait for it to execute). In these cases, you don't have to restart the kernel, but you can *interrupt* it, by hitting the square stop symbol just to the left of the restart kernel button in the menu bar. This just stops the execution of the current cell."
   ]
  },
  {
   "cell_type": "markdown",
   "id": "1efb8fab-293c-4a14-8001-4970e2dfecbb",
   "metadata": {},
   "source": [
    "# Part 2: Tools for productivity and debugging"
   ]
  },
  {
   "cell_type": "markdown",
   "id": "42d9b4aa-aca2-498f-bfb8-52bdb17f8292",
   "metadata": {},
   "source": [
    "## 9. Python help using `?`"
   ]
  },
  {
   "cell_type": "markdown",
   "id": "095104b8-306b-4046-88fe-656fedf7ab44",
   "metadata": {},
   "source": [
    "Sometimes, you might not know or remember exactly how a function works or what argument it takes, or what attributes an object has. You probably know that you can access help in Python by using the `help()` function. Jupyter also has some built-in functionality that's similar, but with slightly more information and nicer formatting: just use `?` in a code cell to pull up the documentation for an object or function.\n",
    "\n",
    "Let's figure out how this line of python code from earlier works using `?`: \n",
    "```python\n",
    "print(\"I'm a code cell! I print a random number: \" + str(random.randint(1,10)))\n",
    "```\n",
    "\n",
    "**YOU TRY:** Create a new cell below this one and put the code `random.randint?` in it, then run the cell. According to the documentation, what is the range of possible random values that might be printed?"
   ]
  },
  {
   "cell_type": "markdown",
   "id": "598657f2-d154-43d4-8d29-185945aff1a2",
   "metadata": {},
   "source": [
    "**YOU TRY:** Create a new cell below this one and put the code `str?` in it, then run the cell. What does `str()` do, and why do you think we needed to use it in the example? *Hint:* If you aren't sure, or to check your answer, try executing the line of code *without* the `str` wrapper, that is: \n",
    "```python\n",
    "print(\"I'm a code cell! I print a random number: \" + random.randint(1,10))\n",
    "```"
   ]
  },
  {
   "cell_type": "markdown",
   "id": "0d14297b-822d-4155-80bc-2fc0ae792457",
   "metadata": {},
   "source": [
    "## 10. The Contextual Help pane"
   ]
  },
  {
   "cell_type": "markdown",
   "id": "f0830ba6-9ed7-4c27-9e56-8e784fc3144c",
   "metadata": {},
   "source": [
    "In Noteable, you can also view documentation for a function in the *Contextual Help* pane, which you can open from the menu bar using **Help > Show Contextual Help**. (The keyboard shortcut `Ctrl+i` does not seem to work consistently.)\n",
    "\n",
    "You will see documentation for whichever function your cursor is inside of."
   ]
  },
  {
   "cell_type": "markdown",
   "id": "8b871421-3f2d-4720-899e-770fd86e97e0",
   "metadata": {},
   "source": [
    "**Note:** Contextual help will only work for functions and variables that the Python kernel \"knows\" about. Essentially, this means that you must have already run the code that defines the function or variable. For example, in order to see the contextual help for the `random.choice()` function in the code below, you must have run the cell earlier in the lab that imports the `random` module.\n",
    "\n",
    "If you are *not* seeing contextual help for a function or variable, this might be a clue that you accidentally forgot to run the code that defines it. (It doesn't *necessarily* mean that, though: there are other reasons contextual help may not appear for a function. Don't forget, you can still use `?`.)"
   ]
  },
  {
   "cell_type": "markdown",
   "id": "87c05ed1-ac7f-438f-9568-d3c22d89b0c1",
   "metadata": {},
   "source": [
    "**YOU TRY:** Activate contextual help, then click on the code cell below and move the cursor around using the arrow keys (but don't run the cell yet). Notice how the documentation changes depending on which function your cursor is inside of. "
   ]
  },
  {
   "cell_type": "code",
   "execution_count": null,
   "id": "6e973c47-7d55-44b4-b471-de4182d1373e",
   "metadata": {},
   "outputs": [],
   "source": [
    "for _ in range(30):\n",
    "    print(random.choice([\"✨\",\"⭐\",\"🌸\",\"💖\",\"🌟\",\"💫\"]), end=\" \")"
   ]
  },
  {
   "cell_type": "markdown",
   "id": "efa96f20-1724-4d75-95da-8c577b8b03c0",
   "metadata": {
    "jp-MarkdownHeadingCollapsed": true
   },
   "source": [
    "**YOU TRY:** Still without running the cell, can you predict what the output will be if you run it? Use contextual help to figure out what the argument `end` does. "
   ]
  },
  {
   "cell_type": "markdown",
   "id": "4bef8376-7b25-415d-8f58-333e2d3a9c1d",
   "metadata": {},
   "source": [
    "**YOU TRY:** Now run the cell and see if you were right. Try changing the `\" \"` to some other character, re-run the cell, and see if it changes the output in the way you expect."
   ]
  },
  {
   "cell_type": "markdown",
   "id": "e13f6ce8-ed44-4160-ba91-508181f3a690",
   "metadata": {},
   "source": [
    "## 11. Tab completion"
   ]
  },
  {
   "cell_type": "markdown",
   "id": "2bb25acb-2a50-4cb7-b77a-a2830dd8f525",
   "metadata": {},
   "source": [
    "Contextual help is useful for *understanding* code, but what about when you need to *write* code, and you don't know the name of the function you need? In Jupyter, you can use *tab completion* for this! \n",
    "\n",
    "When you've typed the name of an object followed by a `.` and your cursor is after the dot, you can hit the `Tab` key to see possible completions. You can use arrow keys or keep hitting `Tab` to cycle through all the possibilities.\n",
    "\n",
    "Also, if you remember the start of a function's name, you can type the first few characters, then hit tab, and Jupyter will auto-complete it for you!"
   ]
  },
  {
   "cell_type": "markdown",
   "id": "efdcde5e-ee1d-4eba-8f93-ccdf8d3d4319",
   "metadata": {},
   "source": [
    "**YOU TRY:** Below, we define a string called `sentence` that starts with \"My\". In Python, strings have a built-in function that lets you check if they start with another string. Use tab completion in the second cell to find this function and check if `sentence` starts with \"My\". Remember to put your cursor right after the dot to use tab completion! (You will also see lots of other functions that are available for strings.)\n",
    "\n",
    "**YOU TRY:** When you think your code is correct, run it! Don't panic if you get an error, but do see the note below."
   ]
  },
  {
   "cell_type": "code",
   "execution_count": null,
   "id": "9629c169-1b96-4f40-9877-b37ee9ed2c6e",
   "metadata": {},
   "outputs": [],
   "source": [
    "sentence = \"My start is My\""
   ]
  },
  {
   "cell_type": "code",
   "execution_count": null,
   "id": "63cf37fb-9475-4b87-8b4f-9c1d4ab9632f",
   "metadata": {},
   "outputs": [],
   "source": [
    "sentence. # finish me!"
   ]
  },
  {
   "cell_type": "markdown",
   "id": "0140854f-3fec-4986-9c68-dc6db3bf3925",
   "metadata": {},
   "source": [
    "If you wrote and ran your code correctly, you should get the output `True`. However, some of you might have gotten an error saying that `sentence` is undefined, because you forgot to run the cell defining `sentence` before running your solution. This is just one more reminder that in Jupyter notebooks, *the order in which you execute cells matters.* This can easily lead to mistakes, and is one more reason to periodically re-start the kernel and run all cells."
   ]
  },
  {
   "cell_type": "markdown",
   "id": "c6900101-f90f-460f-8f61-7df956cc11e1",
   "metadata": {},
   "source": [
    "## 12. Debugging in Noteable"
   ]
  },
  {
   "cell_type": "markdown",
   "id": "6f26576f-c5f7-4080-9759-77fb67bdf53b",
   "metadata": {
    "editable": true,
    "slideshow": {
     "slide_type": ""
    },
    "tags": []
   },
   "source": [
    "As you start writing code, you will get errors and will need to debug! Noteable has an integrated debugger, which you can access by clicking on the bug icon in the menu bar:\n",
    "\n",
    "![](images/debug.png)\n",
    "\n",
    "The debugger has several windows, but in this tutorial we will just focus on the top window, where you can see the values of all variables that have been defined so far."
   ]
  },
  {
   "cell_type": "markdown",
   "id": "007cdcef-1bbb-430f-ad5f-d78c2f74f57b",
   "metadata": {
    "editable": true,
    "slideshow": {
     "slide_type": ""
    },
    "tags": []
   },
   "source": [
    "**YOU TRY:** Open the debugger. If you've completed and run all sections of the lab so far, you should see something like the image below. The bug icon is red, indicating that the debugger is on, and there's an alphabetical list of all the variables and their values. Most of these you can ignore, but you should see the values for the `a`, `b`, and `sentence` variables that we defined above. You can also see some modules, like `random`, that have been imported. You can resize the Variables window if you want to.\n",
    "\n",
    "![](images/variables.png)\n",
    "\n",
    "<div class=\"alert alert-danger\">\n",
    "If you restart the kernel, you will also need to restart the debugger. \n",
    "</div>"
   ]
  },
  {
   "cell_type": "markdown",
   "id": "839c4013-7a0c-43e1-b9c9-b04610438b5f",
   "metadata": {},
   "source": [
    "Now we'll go through an example of using the debugger on some poorly written code.\n",
    "\n",
    "As we mentioned previously, one thing to be very careful about with Jupyter notebooks is that variables will retain their value across cells until they are redefined or the session is restarted. This means it is easy to accidentally make errors by accessing a variable that is incorrectly defined or has been deleted. "
   ]
  },
  {
   "cell_type": "markdown",
   "id": "5c1e1c80-1f4b-4319-821f-9b6a7eb0d868",
   "metadata": {},
   "source": [
    "As an example, say your lab partner wrote the code in the two cells below, which finds the longest word in `sentence` and tries to print it out letter by letter. Your partner meant to type `j` inside the loop in the second cell, but used `i` instead.\n",
    "\n",
    "\n"
   ]
  },
  {
   "cell_type": "markdown",
   "id": "2fdd501e-bfb2-4cbf-af37-ee8528738954",
   "metadata": {},
   "source": [
    "**YOU TRY:** Look at the code in the first cell, and (before you run it) try to understand how it works. If you aren't sure what `split()` does, look up the documentation by running `str.split?` in a new cell. What do you think the value of `sentence` will be after running this code? What about `longest word`?"
   ]
  },
  {
   "cell_type": "markdown",
   "id": "7a1ac796-3bd7-4c22-bdd3-02a6c3645e79",
   "metadata": {},
   "source": [
    "**YOU TRY:** Now run both cells and check if you were right about what the first cell does, by looking at the values in the debugger. (You can click on the > next to `sentence` in the debugger to see what's in the list.)"
   ]
  },
  {
   "cell_type": "code",
   "execution_count": null,
   "id": "f2cb5134",
   "metadata": {},
   "outputs": [],
   "source": [
    "# lets find the longest word!\n",
    "sentence = \"My start is My\".split() \n",
    "longest_word = \"\"\n",
    "for i in range(len(sentence)):\n",
    "    if len(sentence[i]) > len(longest_word):\n",
    "        longest_word = sentence[i]"
   ]
  },
  {
   "cell_type": "code",
   "execution_count": null,
   "id": "42fee681",
   "metadata": {},
   "outputs": [],
   "source": [
    "# print all the letters in the longest word, one per line\n",
    "for j in range(len(longest_word)):\n",
    "    print(longest_word[i]) # oops, we meant to type j"
   ]
  },
  {
   "cell_type": "markdown",
   "id": "64298629-7492-4f6e-a931-013a10bee877",
   "metadata": {},
   "source": [
    "Your partner accidentally used `i` instead of `j` in the loop in the second cell. But now they're wondering why it printed out \"r\" 5 times --- `i` isn't defined in that cell, so your partner thinks it should give an error message about an undefined variable. \n",
    "\n",
    "**YOU TRY:** Can you explain to your partner what happened here? You can look at the variables in the debugger if you need to.\n"
   ]
  },
  {
   "cell_type": "markdown",
   "id": "73bb2e0d-c418-4cfa-8009-bb9df4f37fa3",
   "metadata": {},
   "source": [
    "## 13. Defensive coding\n"
   ]
  },
  {
   "cell_type": "markdown",
   "id": "ab26b2c6-05f3-4275-b27e-90b689150d58",
   "metadata": {},
   "source": [
    "While it's hard to completely avoid problems caused by typos (like the one above), there are other ways you can pattern your code to try to avoid bugs in the first place.\n",
    "\n",
    "We've actually created an example in this lab of a pattern you should *avoid*. We defined the variable `sentence` earlier in the lab, assigning it the value `\"My start is My\"`. But then, in a later cell, we used the same variable and gave it a different value. \n",
    "\n",
    "If we accidentally run only some of the cells, or run them out of order, we could end up later on using a value of `sentence` that's not what we expect, and it may be hard to notice that error."
   ]
  },
  {
   "cell_type": "markdown",
   "id": "7469ad54-e7e3-470d-a60b-a9e4cdb5e055",
   "metadata": {},
   "source": [
    "To avoid this problem, a good practice to follow is:\n",
    "- if you are redefining the value of a variable, try to do it within the same cell.\n",
    "- if you are working across different cells, use a new variable with an appropriate name, rather than changing the value of an old variable.\n",
    "This way, if you forget to run one of the cells, or run them out of order, you will get an undefined variable error, which is easy to find and fix, rather than wrong results, which are harder to notice.\n",
    "\n",
    "For example, if we have already defined `sentence` earlier on, then it would be better to write the code for finding the longest word using the new variable `sentence_words`, as below. (We've also fixed the bug in the second cell.)"
   ]
  },
  {
   "cell_type": "code",
   "execution_count": null,
   "id": "aa320128-bd46-417f-b16a-a880456f95f0",
   "metadata": {},
   "outputs": [],
   "source": [
    "# lets find the longest word!\n",
    "sentence_words = \"My start is My\".split() \n",
    "longest_word = \"\"\n",
    "for i in range(len(sentence_words)):\n",
    "    if len(sentence_words[i]) > len(longest_word):\n",
    "        longest_word = sentence_words[i]"
   ]
  },
  {
   "cell_type": "code",
   "execution_count": null,
   "id": "fb483a1c-2579-4469-abd5-0d8c86df020e",
   "metadata": {},
   "outputs": [],
   "source": [
    "# print all the letters in the longest word, one per line\n",
    "for j in range(len(longest_word)):\n",
    "    print(longest_word[j]) # oops, we meant to type j"
   ]
  },
  {
   "cell_type": "markdown",
   "id": "8cd1449e-7fc4-4f44-bd44-f7068815dca3",
   "metadata": {},
   "source": [
    "## 14. Viewing the history"
   ]
  },
  {
   "cell_type": "markdown",
   "id": "4941b8f3-7575-4240-a564-57159fef1601",
   "metadata": {},
   "source": [
    "Another useful command you can use in a code cell is `%history`. The `%` means this is a special Jupyter functionality called a \"magic command\". Magic commands allow you to access extra information or process different types of data than standard Python. In this case, `%history` shows us all the Python code which has been executed and in what order.\n",
    "\n",
    "We won't be relying on magic commands in this course, but if you are interested, you can learn more about the (many!) available commands [here](https://ipython.readthedocs.io/en/stable/interactive/magics.html). Also, if you're used to using the standard Python debugger (pdb) and prefer that to the Noteable debugger, you can access it with the `%debug` magic command.\n",
    "\n",
    "**YOU TRY:** Run the below cell and use it to find where in the command history `sentence` was redfined."
   ]
  },
  {
   "cell_type": "code",
   "execution_count": null,
   "id": "6c1670c6",
   "metadata": {},
   "outputs": [],
   "source": [
    "%history"
   ]
  },
  {
   "cell_type": "markdown",
   "id": "a9dd5e8d-a15c-46c7-b3f4-c46cc029e5da",
   "metadata": {},
   "source": [
    "## 15. Keyboard shortcuts and advanced command mode"
   ]
  },
  {
   "cell_type": "markdown",
   "id": "6b699bc8-f49a-4814-a479-4127ad3e9555",
   "metadata": {},
   "source": [
    "You can always use menus to do what you want, but when coding, it's often quicker to use keyboard shortcuts (once you learn them)!  You can use `Ctrl + Shift + h` at any time to see a complete list of keyboard shortcuts, but it's a bit overwhelming. Here are a few of the most useful ones in Noteable. Note that these might not be the same in all versions of Jupyter!"
   ]
  },
  {
   "cell_type": "markdown",
   "id": "82dfab1a-4e56-489b-98d6-d8a911018f37",
   "metadata": {},
   "source": [
    "### Top keyboard shortcuts\n",
    "\n",
    "Hopefully you're already very familiar with these from this lab!\n",
    "\n",
    "- `Enter`/`Esc` - Enter Edit/Command Mode\n",
    "- `Ctrl-Enter` - Run this cell and maintain selection\n",
    "- `Shift-Enter` - Run this cell and move to the next cell"
   ]
  },
  {
   "cell_type": "markdown",
   "id": "982bb9cd-61c4-40d1-97d0-ec5cb6caeaf0",
   "metadata": {},
   "source": [
    "### Keyboard shortcuts in Edit mode\n",
    "\n",
    "If you are used to using keyboard shortcuts, you are probably familiar with many of these already, such as:\n",
    "\n",
    "- `Ctrl-x` - Cut selected region\n",
    "- `Ctrl-c` - Copy selected region\n",
    "- `Ctrl-v` - Paste\n",
    "- `Ctrl-z`/`Shift-Ctrl-z` - Undo/Redo edit"
   ]
  },
  {
   "cell_type": "markdown",
   "id": "587e4ba3-0602-43f1-832e-27279a4a6e3a",
   "metadata": {},
   "source": [
    "### Keyboard shortcuts in Command mode\n",
    "\n",
    "The commands introduced so far in this tutorial are summarized below:\n",
    "- `Up`/`Down` - select the previous/next cell\n",
    "- `m`/`y` - Converts a cell to Markdown/code\n",
    "- `a`/`b` - Creates a new cell above/below the currently selected one\n",
    "\n",
    "However, there are many more useful commands. Here are just a few of them:\n",
    "- `Shift-Up/Down` - select multiple cells above/below\n",
    "- `dd` - Deletes the selected cell (press 'd' twice in a row)\n",
    "- `Shift-m`  - Merge the selected cells with the following one\n",
    "- `x` - Cut selected cell(s)\n",
    "- `c` - Copy selected cell(s)\n",
    "- `v` - Paste cell(s)\n",
    "- `z`/`Shift-z` - Undo/Redo cell action"
   ]
  },
  {
   "cell_type": "markdown",
   "id": "c4c6aaf0",
   "metadata": {},
   "source": [
    "**YOU TRY:** Use `Shift-Down` to select the following blank cells, and `Shift-m` to merge them. Then use `dd` to delete the merged cell, and `z` twice to restore the merged cell and unmerge it."
   ]
  },
  {
   "cell_type": "code",
   "execution_count": null,
   "id": "a5dcdcfb-01b1-4f17-99af-425ee738a0c7",
   "metadata": {},
   "outputs": [],
   "source": []
  },
  {
   "cell_type": "code",
   "execution_count": null,
   "id": "8ea17aca-19de-45db-a82f-82588e636bec",
   "metadata": {},
   "outputs": [],
   "source": []
  },
  {
   "cell_type": "code",
   "execution_count": null,
   "id": "e00714a1-7175-4005-b4d8-f12bba820cfa",
   "metadata": {},
   "outputs": [],
   "source": []
  },
  {
   "cell_type": "code",
   "execution_count": null,
   "id": "71329db8-fdcb-4690-96a4-2c93ec13f631",
   "metadata": {},
   "outputs": [],
   "source": []
  },
  {
   "cell_type": "markdown",
   "id": "8d36fdef-b2d3-44ce-a0a3-d38ceea54742",
   "metadata": {},
   "source": [
    "# Part 3: tips for the remaining labs"
   ]
  },
  {
   "cell_type": "markdown",
   "id": "2b586457-084b-4fa3-9662-35962af0edb9",
   "metadata": {},
   "source": [
    "## Using the lab computers\n",
    "\n",
    "The computers in the Appleton Tower labs are set up with DICE, our School's version of Linux.\n",
    "\n",
    "A few of the monitors have cables for you to plug in your own laptop, but most don't. We'd like you to use the full-sized monitors to make it easier to work with a partner (see below), so we expect that one student in each pair will need to log in using their DICE account.\n",
    "\n",
    "You should already have a DICE account and password if you are registered for this or any other Informatics course. Please make sure you have this information with you when you attend the lab! \n",
    "\n",
    "If you don't have a DICE account yet, please make sure you pair up with someone who does.\n",
    "\n",
    "You don't need to know how to use Linux for this class, but if you are interested in learning more about DICE or Linux, you can start with this quick introduction provided by our computing support team:\n",
    "\n",
    "- [Introduction to DICE](https://opencourse.inf.ed.ac.uk/DICE-UG) (optional)"
   ]
  },
  {
   "cell_type": "markdown",
   "id": "3fa953dc-c50e-4aba-ae98-d96fb5b18256",
   "metadata": {},
   "source": [
    "## Working with a partner\n",
    "\n",
    "From our past experience in this course, we strongly recommend that you do the labs during your timetabled session, so that you can work with another student and get help from demonstrators. \n",
    "\n",
    "Please try to find a partner for the lab! Just sit down next to another student and introduce yourself, and work through the lab together. You should try to share a single keyboard and screen, and talk through each question as you go, to stay synchronized. \n",
    "\n",
    "Working this way will help you meet other students and learn more, since your partner may have questions or comments you hadn't thought of, and you'll learn to communicate about technical concepts, which is important for your understanding (and for the exam! and for your future job!)\n",
    "\n",
    "For this to work well, each person should\n",
    "ensure that both they *and* their partner understand what is going\n",
    "on. Try to:\n",
    "- Pay attention to what your partner is doing.\n",
    "- Talk through the code that's provided, so you both understand how it works.\n",
    "- Tell your partner, or ask them a question, if you don't understand or don't agree with their answer.\n",
    "- Ask your partner if they are following along and if they agree with your answer to a question.\n",
    "\n",
    "If neither of you knows the answer, ask one of the demonstrators in\n",
    "the lab, and we can try to help you. However, *don't* expect the\n",
    "demonstrator to simply tell you the answer. They may instead ask\n",
    "questions or suggest ideas to help you find the answer together\n",
    "with your partner.\n",
    "\n",
    "If one person is much more familiar with Python than the other,\n",
    "try putting the less experienced person at the keyboard or at least\n",
    "switching frequently, so they will get more practice with basic\n",
    "coding skills.\n"
   ]
  },
  {
   "cell_type": "markdown",
   "id": "f758173c-4539-4b04-b236-961249f18748",
   "metadata": {},
   "source": [
    "## &#127881; &#127881; Congratulations! You're done! &#x1F680; \n",
    "\n",
    "We know this lab had a lot of reading to do, but we hope it was useful! See you in the lab sessions next week, where we get to start working with data!"
   ]
  }
 ],
 "metadata": {
  "kernelspec": {
   "display_name": "Python 3 (ipykernel)",
   "language": "python",
   "name": "python3"
  },
  "language_info": {
   "codemirror_mode": {
    "name": "ipython",
    "version": 3
   },
   "file_extension": ".py",
   "mimetype": "text/x-python",
   "name": "python",
   "nbconvert_exporter": "python",
   "pygments_lexer": "ipython3",
   "version": "3.12.11"
  }
 },
 "nbformat": 4,
 "nbformat_minor": 5
}
