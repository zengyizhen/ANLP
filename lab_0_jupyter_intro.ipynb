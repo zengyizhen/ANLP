{
 "cells": [
  {
   "cell_type": "markdown",
   "id": "7187d1c2",
   "metadata": {},
   "source": [
    "# Lab 0: Introduction to Jupyter Notebooks\n",
    "#### Accelerated Natural Language Processing (INFR11125)\n",
    "\n",
    "This lab introduces Jupyter notebooks, which we will use for the labs throughout this course. We'll be using Noteable, which is a special version of JupyterLab. If you get stuck or want to learn more about Jupyter/Notebooks/JupyterLab/Notable, you can check out the following links:\n",
    "    \n",
    "- [Noteable User Guide](https://noteable.edina.ac.uk/user-guide/) This guide is the most Noteable-specific, and also includes overview information about notebooks and the JupyterLab interface.\n",
    "- [JupyterLab Documentation](https://jupyterlab.readthedocs.io/en/stable/getting_started/overview.html) Less Noteable-specific, but even more information!\n",
    "\n",
    "There's also a lot of help within the Notable interface itself! In the Help tab at the top right, you'll find links to lots of reference materials for various tools we'll use in this course.\n",
    "\n",
    "While we aren't teaching Python in this course, we know many of you are new to it. In this lab, we'll also talk about sources you can use to get help with Python and the Python packages we'll use in this course, as well as some debugging techniques for Jupyter notebooks.\n",
    "\n",
    "The below tutorial is focused on JupyterLab and Noteable, but Jupyter notebooks can be run in many environments. Most things will be the same, but the appearance and the layout of the interface might be a bit different from how it's described here. Further, different editors might have different features: for example, Colab allows real-time collaboration and access to GPUs, but Noteable comes with all the packages you'll need for this course pre-installed and sophisticated debugging features."
   ]
  },
  {
   "cell_type": "markdown",
   "id": "d283ade0",
   "metadata": {},
   "source": [
    "## 1. What is Jupyter?\n",
    "Jupyter is a platform for interactive computational documents called notebooks. A Jupyter notebook is a file type that allows you to weave together code, text, equations/mathematical notation, visualizations and multimedia. They allow you to run code live alongside formatted explanatory text and see the outputs of the code directly alongside the code. Jupyter notebooks are organized into cells--short snippets which are either text or code. We'll talk more about cells later."
   ]
  },
  {
   "cell_type": "markdown",
   "id": "c4c6aaf0",
   "metadata": {},
   "source": [
    "## 2. How do I edit a Jupyter Notebook?\n",
    "Jupyter is a *modal editor* (like Vim, if you've heard of it). It has two modes, and the way you interact with the notebook is different in each. Right now, you're probably in **Command Mode**. In Command Mode, the currently selected cell will have a <span style=\"color:blue\">blue</span> highlight to the left. In command mode you have access to the following commands, among others:\n",
    "- `<ctrl> + <shift> + h` - Brings up help window (contains full list of shortcuts!)\n",
    "- `<up arrow>` - select the previous cell\n",
    "- `<down arrow>` - select the next cell\n",
    "- `<enter>` - Enters Edit Mode\n",
    "- `a` - Creates a new cell above the currently selected one\n",
    "- `b` - Creates a new cell below the currently selected one\n",
    "- `dd` - Deletes the selected cell (press 'd' twice in a row)\n",
    "- `<shift> + m`  - Merge the selected cell with the following one\n",
    "\n",
    "There are many more helpful commands, so definitely check out the help window!"
   ]
  },
  {
   "cell_type": "markdown",
   "id": "fffa6fbe",
   "metadata": {},
   "source": [
    "As hinted at in that command list, the second mode of Jupyter is **Edit Mode**. In Edit Mode, there will be a <span style=\"color:green\">green</span> highlight to the left of the selected cell, and you can edit its contents, be it code or text. You also have access to the following commands:\n",
    "- `<Esc>` - Enters Command Mode\n",
    "- `<shift> + <enter>` - Executes the code snippet in the currently selected cell, and selects the cell below\n",
    "- `<ctrl> + <enter>` - Executes the current cell 'in-place' -- keeping it selected.\n",
    "\n",
    "You can also execute the current cell by hitting the play button at the top of the document."
   ]
  },
  {
   "cell_type": "markdown",
   "id": "49786246",
   "metadata": {},
   "source": [
    "## 3. Code cells\n",
    "\n",
    "Cells in a Jupyter notebook are either code cells or markdown (text) cells. In this course, we will use a python *kernel*, which means python will be used for executing the code cells. You can also use Jupyter for other programming languages, like R and Julia. When you run a code cell, the output of the code will display below the cell. To the left of a cell, you will see a number in brackets. This helps you keep track of the order in which code cells were executed. Empty brackets indicate that a cell hasn't been run yet. If you re-execute a cell, the number will change."
   ]
  },
  {
   "cell_type": "code",
   "execution_count": null,
   "id": "33214194",
   "metadata": {},
   "outputs": [],
   "source": [
    "print(\"Try executing me! And try editing my text.\")"
   ]
  },
  {
   "cell_type": "markdown",
   "id": "34429c81",
   "metadata": {},
   "source": [
    "You don't actually have to include a print statement to display a value in a Jupyter notebook. Notice the behaviour of the below cells: which ones produce an output, and which don't? what value is displayed?"
   ]
  },
  {
   "cell_type": "code",
   "execution_count": null,
   "id": "ca156439",
   "metadata": {},
   "outputs": [],
   "source": [
    "a = 10\n",
    "b = 20\n",
    "a"
   ]
  },
  {
   "cell_type": "code",
   "execution_count": null,
   "id": "98775042",
   "metadata": {},
   "outputs": [],
   "source": [
    "b"
   ]
  },
  {
   "cell_type": "code",
   "execution_count": null,
   "id": "d5404b62",
   "metadata": {},
   "outputs": [],
   "source": [
    "a\n",
    "b = 30"
   ]
  },
  {
   "cell_type": "code",
   "execution_count": null,
   "id": "b060c0b2",
   "metadata": {},
   "outputs": [],
   "source": [
    "b\n",
    "a"
   ]
  },
  {
   "cell_type": "markdown",
   "id": "562dc809",
   "metadata": {},
   "source": [
    "## 4. Text cells\n",
    "While in this course you'll primarily need to edit code cells, it's worth knowing a little bit about how to edit and format text in Jupyter notebooks. Jupyter notebooks use Markdown, a simple way of typing formatted text without needing buttons for styles. You can make text **bold** or *italic*, or type an equation using LaTeX ($y=m\\cdot x+b$). You can also make headings, lists, and more. If you're interested, you can learn more markdown here:\n",
    "\n",
    "Markdown cheat sheet: http://nestacms.com/docs/creating-content/markdown-cheat-sheet\n",
    "\n",
    "You might often find you need to change a Markdown cell into a code cell or a code cell into a markdown cell. There's a dropdown menu for this in JupyterLab just above the notebook, but you can also change the cell type in Command Mode:\n",
    "- `m` - Changes the current cell into a Markdown cell\n",
    "- `y` - Changes the current cell into a code cell"
   ]
  },
  {
   "cell_type": "markdown",
   "id": "cd1f4378",
   "metadata": {},
   "source": [
    "## 5. Tab completion & Documentation\n",
    "Now that you know the basics of how to navigate and modify a Jupyter notebook, we'll teach you a bit about how to code effectively in them. When programming in Python, you work with many different types of *objects*, which have different *attributes* like functions and variables that you might want to access. \n",
    "\n",
    "It's impossible to remember the names of every attribute you might need when programming, which are not just defined by Python, but also by libraries you use or you yourself. Luckily, Jupyter comes with a number of built in tricks for helping you find the attributes of objects that you need. The first is *tab completion*: when you type the name of an object and a period, you can press the `<tab>` key, and Jupyter will show you all the attributes the object has."
   ]
  },
  {
   "cell_type": "code",
   "execution_count": null,
   "id": "07918c67",
   "metadata": {},
   "outputs": [],
   "source": [
    "sentence = \"My beginning is My\""
   ]
  },
  {
   "cell_type": "code",
   "execution_count": null,
   "id": "c83f4469",
   "metadata": {},
   "outputs": [],
   "source": [
    "# Use tab completion to find a function on `sentence` \n",
    "# to check if `sentence` starts with \"My\"\n",
    "sentence."
   ]
  },
  {
   "cell_type": "markdown",
   "id": "189b380a",
   "metadata": {},
   "source": [
    "Another way to find out more about a function, attribute or object is to type it into a code cell followed by `?`, which will show you the documentation for that object or function. This can be really useful for functions that have a lot of options or required arguments."
   ]
  },
  {
   "cell_type": "code",
   "execution_count": null,
   "id": "1fdee786",
   "metadata": {},
   "outputs": [],
   "source": [
    "sentence.startswith?"
   ]
  },
  {
   "cell_type": "markdown",
   "id": "9f1a8c42",
   "metadata": {},
   "source": [
    "Finally, JupyterLab includes some special functionality: you can use `<ctrl> + i` or navigate to **Help > Contextual Help** to open a pane which shows you the documentation for whatever python object is under your cursor."
   ]
  },
  {
   "cell_type": "markdown",
   "id": "9fb6d37c",
   "metadata": {},
   "source": [
    "## 6. Debugging in JupyterLab\n",
    "\n",
    "One thing to be very careful about with Jupyter notebooks is that variables will retain their value across cells until they are redefined or the session is restarted. This means it is easy to accidentally make errors by accessing a variable that is incorrectly defined. As an example, take the following broken code:\n"
   ]
  },
  {
   "cell_type": "code",
   "execution_count": null,
   "id": "f2cb5134",
   "metadata": {},
   "outputs": [],
   "source": [
    "# lets find the longest word!\n",
    "sentence = \"My beginning is My\".split() # check what the value of sentence is, and the documentation for split() if you're not sure!\n",
    "longest_word = \"\"\n",
    "for i in range(len(sentence)):\n",
    "    if len(sentence[i]) > len(longest_word):\n",
    "        longest_word = sentence[i]"
   ]
  },
  {
   "cell_type": "code",
   "execution_count": null,
   "id": "42fee681",
   "metadata": {},
   "outputs": [],
   "source": [
    "# print all the letters in the longest word\n",
    "for j in range(len(longest_word)):\n",
    "    print(longest_word[i])"
   ]
  },
  {
   "cell_type": "markdown",
   "id": "3e257f4c",
   "metadata": {},
   "source": [
    "Why did we print a bunch of *i*'s, instead of the word *beginning*? To figure this out, we should inspect the current value of the variable `i`. In the menu bar just above the notebook, there's a small icon of a bug. If you click on the bug, it will open the debugging menu on the right side of the screen. The top panel, \"Variables\", includes all the variables which are currently defined in the session. What's the value of `i`?\n",
    "\n",
    "The debugger is also useful when your code has an error--you can inspect the value of the variables before the error to figure out why the error is happening. Why is 15 out of range for `sentence`?"
   ]
  },
  {
   "cell_type": "code",
   "execution_count": null,
   "id": "a4a2e02a",
   "metadata": {},
   "outputs": [],
   "source": [
    "sentence[15]"
   ]
  },
  {
   "cell_type": "markdown",
   "id": "68b66a8f",
   "metadata": {},
   "source": [
    "Another useful command you can use in a code cell is `%history`. This is a special Jupyter functionality called a \"magic command\". They allow you to access extra information or process different types of data than vanilla Python. In this case, `%history` shows us all the Python code which has been executed and the order. Can you use it to find when `sentence` was redefined to have a length shorter than 15? \n",
    "\n",
    "While we won't be relying on magic commands in this course, you can learn more about the available commands [here](https://ipython.readthedocs.io/en/stable/interactive/magics.html)."
   ]
  },
  {
   "cell_type": "code",
   "execution_count": null,
   "id": "6c1670c6",
   "metadata": {},
   "outputs": [],
   "source": [
    "%history"
   ]
  }
 ],
 "metadata": {
  "kernelspec": {
   "display_name": "adpositions",
   "language": "python",
   "name": "python3"
  },
  "language_info": {
   "codemirror_mode": {
    "name": "ipython",
    "version": 3
   },
   "file_extension": ".py",
   "mimetype": "text/x-python",
   "name": "python",
   "nbconvert_exporter": "python",
   "pygments_lexer": "ipython3",
   "version": "3.13.6"
  }
 },
 "nbformat": 4,
 "nbformat_minor": 5
}
