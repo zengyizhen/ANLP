{
 "cells": [
  {
   "cell_type": "markdown",
   "metadata": {
    "id": "bDxS8RLD9Mf1"
   },
   "source": [
    "# Lab 3: Sequence-to-Sequence Modeling with Recurrent Neural Networks\n"
   ]
  },
  {
   "cell_type": "markdown",
   "metadata": {
    "id": "ybdRfjvbDI4A"
   },
   "source": [
    "The objective of this lab is to _implement, train, and evaluate a recurrent neural network (RNN)-based sequence-to-sequence (seq2seq) model_. Well, that's a mouthful, so let's unpack the two key terms.\n",
    "\n",
    "A **Recurrent Neural Network** (RNN) is a type of neural network designed to handle sequences, like text or speech. It processes one item of the sequence at a time and carries a hidden state—a kind of short-term memory—that summarises the history of the sequence observed so far. The same weights are reused at each time step, letting it learn patterns over time.\n",
    "\n",
    "\n",
    "**Sequence-to-sequence learning** is a framework used for tasks in which both the input and the output are variable-length sequences that are not necessarily aligned, such as machine translation or summarization. Nowadays, in general-purpose AI models most tasks are framed as seq2seq, where both the input (e.g., task instructions and a question) and the output (e.g., a reasoning trace and an answer) are sequences.\n",
    "\n",
    "In this lab, we apply the seq2seq RNN to a toy task, the SCAN dataset, mapping a sequence of textual instructions into a sequence of actions. With all due differences, this is the stripped down version of commanding a robot!\n",
    "\n",
    "**Important**: Not all student pairs will be able to complete all sections and exercises of this lab: and that is fine! Most students should be able to reach the end of section 7 (\"Evaluating the model\"). If you do not manage to complete Section 8 (\"Out-of-distribution generalisation\") in time during the lab session, you are invited to revisit it at your own convenience."
   ]
  },
  {
   "cell_type": "markdown",
   "metadata": {
    "id": "b1vnik59EUTj"
   },
   "source": [
    "## What you will learn in this lab\n",
    "\n",
    "### Tools and practical issues:\n",
    "\n",
    "In this lab, you will learn:\n",
    "- how to preprocess and batch examples when they have different lengths\n",
    "- how to implement a sequence-to-sequence model\n",
    "- how to train this model through stochastic gradient descent\n",
    "- how to evaluate your model's predictions on a series of metrics, which measure exact match and overlap wrt a reference\n",
    "- to read the documentation of a library and use it\n",
    "\n",
    "### Concepts: sequence-to-sequence models and generalisation\n",
    "\n",
    "After working through the lab, you should be able to:\n",
    "- explain the different challenges in sequence to sequence modelling\n",
    "- understand the difference between i.i.d. and out-of-distribution generalisation\n",
    "   \n",
    "You should also understand more clearly:\n",
    "- how neural models are optimised\n",
    "- how choices in the neural model architecture affect its accuracy"
   ]
  },
  {
   "cell_type": "markdown",
   "metadata": {
    "id": "yNY9VAhAVU3U"
   },
   "source": [
    "# 1. Install and import dependencies"
   ]
  },
  {
   "cell_type": "markdown",
   "metadata": {
    "id": "P_sXQ-DY1T32"
   },
   "source": [
    "Let's first install and import the necessary dependencies. Most notably:\n",
    "\n",
    "\n",
    "\n",
    "*   `torch` (Pytorch), a library for implementing deep learning models, training them, and evaluating them.\n",
    "*   `wandb` (Weights & Biases), a library to track metrics from your experiments.\n",
    "\n",
    "_Optional: If you are not familiar with the other libraries, you can find the documentation for most of them on https://docs.python.org/3/library/_"
   ]
  },
  {
   "cell_type": "code",
   "execution_count": 2,
   "metadata": {
    "id": "hT4G0wBlDJ54"
   },
   "outputs": [
    {
     "data": {
      "text/plain": [
       "<torch._C.Generator at 0x7feb58114570>"
      ]
     },
     "execution_count": 2,
     "metadata": {},
     "output_type": "execute_result"
    }
   ],
   "source": [
    "!pip install -q wandb\n",
    "!pip install -q evaluate\n",
    "!pip install -U -q datasets\n",
    "\n",
    "import random\n",
    "import numpy as np\n",
    "import json\n",
    "import os\n",
    "from tqdm import tqdm\n",
    "from collections import Counter, defaultdict\n",
    "\n",
    "# Deep learning\n",
    "import torch\n",
    "import torch.nn as nn\n",
    "import torch.optim as optim\n",
    "from torch.nn import functional as F\n",
    "from torch.utils.data import Dataset, DataLoader\n",
    "import evaluate\n",
    "\n",
    "# Tracking\n",
    "import wandb\n",
    "\n",
    "# Set random seeds to make our experiments (almost) deterministic\n",
    "# This makes it easier to reproduce results\n",
    "random.seed(42)\n",
    "np.random.seed(42)\n",
    "torch.manual_seed(42)"
   ]
  },
  {
   "cell_type": "markdown",
   "metadata": {
    "id": "DSAlkZ4lVZN7"
   },
   "source": [
    "# 2. Compositionality and the SCAN dataset"
   ]
  },
  {
   "cell_type": "markdown",
   "metadata": {
    "id": "0Dwh0JdxEn5X"
   },
   "source": [
    "**Compositional generalisation** is the ability to understand and produce a potentially infinite number of novel combinations from known components. This is the case of natural language, where infinite sentences can be construed from a finite number of words.\n",
    "\n",
    "For example, assume a person knows the meaning and usage of words such as \"*twice*\" and \"*again*\" and then learns a new (imaginary) verb such as \"*to dax*\". Through compositional generalisation, they can immediately understand or produce instructions such as \"*dax twice*\" or \"*dax again*\" even if they haven't encountered these specific combinations before.\n",
    "\n",
    "With the growing capabilities of machine learning models, researchers have become increasingly interested in testing whether such models can replicate this key aspect of human language.\n",
    "To support systematic investigation of this question, the **SCAN dataset** was introduced by [Lake and Baroni (2018)](https://github.com/brendenlake/SCAN/blob/master/README.md).\n",
    "\n",
    "SCAN consists of a set of commands and their corresponding action sequences. These are the actions an agent should perform to execute the commands successfully. The commands and actions are defined compositionally based on primitive verbs (\"*jump*\", \"*walk*\", \"*run*\", \"*turn*\", etc.), modifiers (\"*twice*\", \"*thrice*\", \"*left*\", etc.) and connectors (\"*and*\", \"*after*\", etc.). Here are some examples.\n",
    "\n",
    "|Command | Action sequence |\n",
    "| --- | --- |\n",
    "| IN: jump                |                       OUT: JUMP |\n",
    "| IN: jump left            |                       OUT:  TURN_LEFT JUMP |\n",
    "| IN: jump around right       |                   OUT: TURN_RIGHT JUMP TURN_RIGHT JUMP TURN_RIGHT JUMP TURN_RIGHT JUMP |\n",
    "| IN: turn left twice          |                  OUT: TURN_LEFT TURN_LEFT |\n",
    "| IN: jump thrice               |                 OUT: JUMP JUMP JUMP |\n",
    "| IN: jump opposite left and walk thrice   |      OUT: TURN_LEFT TURN_LEFT JUMP WALK WALK WALK |\n",
    "| IN: jump opposite left after walk around left | OUT: TURN_LEFT WALK TURN_LEFT WALK TURN_LEFT WALK TURN_LEFT WALK TURN_LEFT TURN_LEFT JUMP |\n",
    "\n",
    "In the first part of this lab, we are going to use a random split of the dataset (80% training, 20% test) that is i.i.d. (**independent and identically distributed**). This means that each example is independent from the others and that all examples are drawn from the same probability distribution. In this case, it means that the test set can be expected to exhibit the same properties as the train set.\n",
    "\n",
    "Let's first download the SCAN dataset files from the internet, then load them into a Python list, where each element is a tuple (input sequence, output sequence)"
   ]
  },
  {
   "cell_type": "code",
   "execution_count": 3,
   "metadata": {
    "id": "tl_R_KQsDJbg"
   },
   "outputs": [
    {
     "name": "stdout",
     "output_type": "stream",
     "text": [
      "--2025-10-20 15:46:47--  https://raw.githubusercontent.com/brendenlake/SCAN/refs/heads/master/simple_split/tasks_train_simple.txt\n",
      "Resolving raw.githubusercontent.com (raw.githubusercontent.com)... 185.199.108.133, 185.199.109.133, 185.199.111.133, ...\n",
      "Connecting to raw.githubusercontent.com (raw.githubusercontent.com)|185.199.108.133|:443... connected.\n",
      "HTTP request sent, awaiting response... 200 OK\n",
      "Length: 3267938 (3.1M) [text/plain]\n",
      "Saving to: ‘train_simple.txt’\n",
      "\n",
      "train_simple.txt    100%[===================>]   3.12M  --.-KB/s    in 0.08s   \n",
      "\n",
      "2025-10-20 15:46:47 (37.0 MB/s) - ‘train_simple.txt’ saved [3267938/3267938]\n",
      "\n",
      "--2025-10-20 15:46:48--  https://raw.githubusercontent.com/brendenlake/SCAN/refs/heads/master/simple_split/tasks_test_simple.txt\n",
      "Resolving raw.githubusercontent.com (raw.githubusercontent.com)... 185.199.108.133, 185.199.111.133, 185.199.110.133, ...\n",
      "Connecting to raw.githubusercontent.com (raw.githubusercontent.com)|185.199.108.133|:443... connected.\n",
      "HTTP request sent, awaiting response... 200 OK\n",
      "Length: 812450 (793K) [text/plain]\n",
      "Saving to: ‘test_simple.txt’\n",
      "\n",
      "test_simple.txt     100%[===================>] 793.41K  --.-KB/s    in 0.06s   \n",
      "\n",
      "2025-10-20 15:46:48 (13.4 MB/s) - ‘test_simple.txt’ saved [812450/812450]\n",
      "\n"
     ]
    }
   ],
   "source": [
    "# Download SCAN dataset\n",
    "!wget https://raw.githubusercontent.com/brendenlake/SCAN/refs/heads/master/simple_split/tasks_train_simple.txt -O train_simple.txt\n",
    "!wget https://raw.githubusercontent.com/brendenlake/SCAN/refs/heads/master/simple_split/tasks_test_simple.txt -O test_simple.txt\n",
    "\n",
    "def load_scan_file(file_path):\n",
    "    with open(file_path) as f:\n",
    "        data = [line.strip().split(\" OUT: \") for line in f.readlines()]\n",
    "    return [(inp.split()[1:], [x[2:] for x in out.split()]) for inp, out in data]\n",
    "\n",
    "train_data = load_scan_file(\"train_simple.txt\")\n",
    "test_data = load_scan_file(\"test_simple.txt\")"
   ]
  },
  {
   "cell_type": "markdown",
   "metadata": {
    "id": "dFCV4scbsug9"
   },
   "source": [
    "Let's explore some properties of the SCAN dataset.\n",
    "\n",
    "The input command is always a combination of the following words:"
   ]
  },
  {
   "cell_type": "code",
   "execution_count": 4,
   "metadata": {
    "id": "X11MhsS-ihfj"
   },
   "outputs": [
    {
     "name": "stdout",
     "output_type": "stream",
     "text": [
      "{'jump', 'left', 'look', 'walk', 'and', 'turn', 'after', 'thrice', 'around', 'right', 'twice', 'opposite', 'run'}\n"
     ]
    }
   ],
   "source": [
    "unique_primitives = set()\n",
    "for in_out in train_data:\n",
    "    unique_primitives.update(in_out[0])\n",
    "print(unique_primitives)"
   ]
  },
  {
   "cell_type": "markdown",
   "metadata": {
    "id": "sbOy9BEcUVP5"
   },
   "source": [
    "...while the output is a combination of the following actions:"
   ]
  },
  {
   "cell_type": "code",
   "execution_count": 5,
   "metadata": {
    "id": "-kSPyqFTUbdL"
   },
   "outputs": [
    {
     "name": "stdout",
     "output_type": "stream",
     "text": [
      "{'RUN', 'LOOK', 'TURN_LEFT', 'TURN_RIGHT', 'JUMP', 'WALK'}\n"
     ]
    }
   ],
   "source": [
    "unique_actions = set()\n",
    "for in_out in train_data:\n",
    "    unique_actions.update(in_out[1])\n",
    "print(unique_actions)"
   ]
  },
  {
   "cell_type": "markdown",
   "metadata": {
    "id": "OTjdfcx-9MIo"
   },
   "source": [
    "We will also define a helper function to print out specific examples from our datasets:"
   ]
  },
  {
   "cell_type": "code",
   "execution_count": 6,
   "metadata": {
    "id": "ryT1zaqb9LNK"
   },
   "outputs": [],
   "source": [
    "def print_example(exm):\n",
    "    # for formatting the input and output when printing each sample\n",
    "    input, output = exm\n",
    "    print(f\"IN: {\" \".join(input)}\")\n",
    "    print(f\"OUT: {\" \".join(output)}\")"
   ]
  },
  {
   "cell_type": "markdown",
   "metadata": {
    "id": "7D9_xXAKaDyg"
   },
   "source": [
    "## Exercise 1\n",
    "\n",
    "1. Can you work out the action sequence corresponding to the following commands? Take a look at the examples above to answer this.\n",
    "\n",
    "- IN: *jump opposite left*\n",
    "- IN: *walk around left*\n",
    "- IN: *run opposite right and look left*\n",
    "- IN: *look thrice after jump around right*\n",
    "\n",
    "2. How would you describe the \"algorithm\" you used to map between the tokens in the input sequence and the actions in the output sequence?\n",
    "\n",
    "3. What do you notice?\n",
    "\n",
    "  *   Is there a 1-to-1 mapping between words and actions? NO\n",
    "  *   Does the order of word spans always correspond to the order in which the corresponding actions appear? No\n",
    "\n",
    "4. As a final exercise, assume that the model has seen the two following examples during training:\n"
   ]
  },
  {
   "cell_type": "code",
   "execution_count": 7,
   "metadata": {
    "id": "K3pzPTZd1VSN"
   },
   "outputs": [
    {
     "name": "stdout",
     "output_type": "stream",
     "text": [
      "IN: jump right twice after walk around right thrice\n",
      "OUT: TURN_RIGHT WALK TURN_RIGHT WALK TURN_RIGHT WALK TURN_RIGHT WALK TURN_RIGHT WALK TURN_RIGHT WALK TURN_RIGHT WALK TURN_RIGHT WALK TURN_RIGHT WALK TURN_RIGHT WALK TURN_RIGHT WALK TURN_RIGHT WALK TURN_RIGHT JUMP TURN_RIGHT JUMP\n",
      "IN: jump opposite right after turn opposite right\n",
      "OUT: TURN_RIGHT TURN_RIGHT TURN_RIGHT TURN_RIGHT JUMP\n"
     ]
    }
   ],
   "source": [
    "print_example(train_data[544])\n",
    "print_example(train_data[1043])"
   ]
  },
  {
   "cell_type": "markdown",
   "metadata": {
    "id": "7E7ngDe6Giti"
   },
   "source": [
    "During evaluation, the model needs to execute the following command:\n",
    "\n",
    "IN: _jump opposite right after walk around right thrice_\n",
    "\n",
    "How does the test command relate to the two training commands? How can the model take advantage of this to generalise to this unseen command?\n",
    "\n",
    "After completing the exercises with your partner, verify your solutions in the companion file.\n",
    "\n",
    "---"
   ]
  },
  {
   "cell_type": "markdown",
   "metadata": {
    "id": "Srx-y60Hlasp"
   },
   "source": [
    "# 3. Data preprocessing\n",
    "\n"
   ]
  },
  {
   "cell_type": "markdown",
   "metadata": {
    "id": "HcoJ_aJxwxc4"
   },
   "source": [
    "After familiarising ourselves with the SCAN dataset, we will develop a neural network model that can automatically take in a sequence of commands as input, and produce a sequence of actions as output.\n",
    "\n",
    "To use a neural network to perform this task, we first need to convert both the input and output tokens into a format that can be processed by a neural network, i.e., vector representations.\n"
   ]
  },
  {
   "cell_type": "markdown",
   "metadata": {
    "id": "x4Q_T6pjzjT5"
   },
   "source": [
    "As you know from week 4, the most widespread approach is to assign each unique token a scalar index and use an `nn.Embedding` layer (from the `torch` library) to learn a dense vector representation for each token, also known as an *embedding*. We will talk more about `nn.Embedding` shortly, but let's focus on assigning token indices for now.\n",
    "\n",
    "## Exercise 2\n",
    "\n",
    "As an exercise, fill in the code for the function below, following the specifications in the function descriptor. Also, keep in mind that:\n",
    "- you should ensure that this mapping is deterministic. You can ensure this by sorting your vocabularies (words and actions) alphabetically.\n",
    "- you should reserve 3 indices for special tokens in both vocabularies (see below for an explanation of why this is needed): 0 for `<pad>` (padding), 1 for `<bos>` (beginning of sentence), and 2 for `<eos>` (end of sentence).\n",
    "\n",
    "_Hint_: First create sets of words and actions from the dataset examples, then construct the corresponding dictionaries. In Python, you can update the elements of a `set` with the `update` method and iterate through the indices and elements of a `list` through `enumerate`.\n",
    "\n",
    "Once you've populated the `build_vocab` function, the code uses the resulting vocabularies to map from words/actions to indices (and viceversa) via the `numericalize` function. Note that this function also maps the output sequence into a **tensor**. This is a `torch` class used to efficiently represent (and perform calculations on) numerical arrays of various dimensions and sizes."
   ]
  },
  {
   "cell_type": "code",
   "execution_count": 11,
   "metadata": {
    "id": "JJ3O2_pVZmHk"
   },
   "outputs": [
    {
     "name": "stdout",
     "output_type": "stream",
     "text": [
      "Original:\n",
      "IN: ['jump', 'opposite', 'right', 'twice', 'and', 'turn', 'opposite', 'right', 'thrice']\n",
      "OUT: ['TURN_RIGHT', 'TURN_RIGHT', 'JUMP', 'TURN_RIGHT', 'TURN_RIGHT', 'JUMP', 'TURN_RIGHT', 'TURN_RIGHT', 'TURN_RIGHT', 'TURN_RIGHT', 'TURN_RIGHT', 'TURN_RIGHT']\n",
      "Indices:\n",
      "IN: tensor([ 6,  9, 10, 14,  4, 13,  9, 10, 12])\n",
      "OUT: tensor([7, 7, 3, 7, 7, 3, 7, 7, 7, 7, 7, 7])\n"
     ]
    }
   ],
   "source": [
    "def build_vocab(pairs):\n",
    "    '''\n",
    "    This function takes in:\n",
    "    -  pairs: the list of (input, output) tuples in the training set\n",
    "    and returns four dictionaries:\n",
    "    - input_w2i: input word to index\n",
    "    - input_i2w: index to input word\n",
    "    - output_w2i: output word to index\n",
    "    - output_i2w: index to output word\n",
    "    '''\n",
    "    ################\n",
    "    # YOUR CODE HERE\n",
    "    ################\n",
    "    input_word_set = set()\n",
    "    output_word_set = set()\n",
    "    for input, output in pairs:\n",
    "        input_word_set.update(input)\n",
    "        output_word_set.update(output)\n",
    "    input_w2i = {w:i+3 for i, w in enumerate(sorted(input_word_set))}\n",
    "    output_w2i = {w:i+3 for i, w in enumerate(sorted(output_word_set))}\n",
    "    input_w2i[\"<pad>\"] = 0\n",
    "    input_w2i[\"<bos>\"] = 1\n",
    "    input_w2i[\"<eos>\"] = 2\n",
    "    output_w2i[\"<pad>\"] = 0\n",
    "    output_w2i[\"<bos>\"] = 1\n",
    "    output_w2i[\"<eos>\"] = 2\n",
    "    \n",
    "    input_i2w = {i:w for i,w in input_w2i.items() }\n",
    "    output_i2w = {w:i for i, w in output_w2i.items()}\n",
    "    return input_w2i, input_i2w, output_w2i, output_i2w\n",
    "input_w2i, input_i2w, output_w2i, output_i2w = build_vocab(train_data)\n",
    "\n",
    "def numericalize(seq, vocab):\n",
    "    # maps a token to its corresponding unique index\n",
    "    return torch.tensor([vocab[w] for w in seq])\n",
    "\n",
    "in_seq, out_seq = train_data[0]\n",
    "\n",
    "print('Original:')\n",
    "print('IN:', in_seq)\n",
    "print('OUT:', out_seq)\n",
    "\n",
    "print('Indices:')\n",
    "print('IN:', numericalize(in_seq, input_w2i))\n",
    "print('OUT:', numericalize(out_seq, output_w2i))\n"
   ]
  },
  {
   "cell_type": "markdown",
   "metadata": {
    "id": "U6FvY_nJU9Bd"
   },
   "source": [
    "The three special tokens added to the input and output vocabularies have some special purposes:\n",
    "\n",
    "**\\<eos>**: marks the *end of sequence*. It tells the encoder when the input sequence is finished, and tells the decoder when to stop generating output.\n",
    "\n",
    "**\\<bos>**: marks the *beginning of sequence*. It is used only for the decoder side to signal the beginning of decoding.\n",
    "\n",
    "**\\<pad>**: used for *padding* sequences to a uniform length so that they can be processed in batches.\n",
    "\n",
    "*These tokens don’t appear in the original SCAN commands or actions, but they’re essential for training and evaluating sequence models properly.*"
   ]
  },
  {
   "cell_type": "markdown",
   "metadata": {
    "id": "KV_Sb_PrS5Ec"
   },
   "source": [
    "# 4. Dataloader and batching"
   ]
  },
  {
   "cell_type": "markdown",
   "metadata": {
    "id": "ScZ40wd7a9XF"
   },
   "source": [
    "Next, let's define `SCANDataset`, a custom Python class to represent our **dataset** (inheriting from `torch.utils.data.Dataset`). Given a sample index, the dataset will return an input-output sequence mapped to the corresponding token indices via `numericalize`."
   ]
  },
  {
   "cell_type": "code",
   "execution_count": 12,
   "metadata": {
    "id": "ne6N3A6KVpg_"
   },
   "outputs": [],
   "source": [
    "class SCANDataset(Dataset):\n",
    "    def __init__(self, data, input_vocab, output_vocab):\n",
    "        self.data = data\n",
    "        self.input_vocab = input_vocab\n",
    "        self.output_vocab = output_vocab\n",
    "\n",
    "    def __len__(self):\n",
    "        return len(self.data)\n",
    "\n",
    "    def __getitem__(self, idx):\n",
    "        inp, out = self.data[idx]\n",
    "        input_seq = numericalize(inp + ['<eos>'], self.input_vocab)\n",
    "        target_seq = numericalize(out + ['<eos>'], self.output_vocab)\n",
    "        return input_seq, target_seq"
   ]
  },
  {
   "cell_type": "markdown",
   "metadata": {
    "id": "tMWN7UbNRl5c"
   },
   "source": [
    "**Batching** is the process of grouping multiple examples together and processing them in parallel during training.\n",
    "Instead of updating the model parameters after seeing just one example at a time, we update them after computing the average loss across a batch of examples.\n",
    "This leads to faster training and more stable gradient estimates.\n",
    "\n",
    "However, in sequence-to-sequence tasks, input and output sequences often have variable lengths.\n",
    "This makes batching challenging, because vectors in a batch must be the same shape in order to stack them together into a matrix.\n",
    "This is where `collate_fn` comes in."
   ]
  },
  {
   "cell_type": "markdown",
   "metadata": {
    "id": "ZaevumDUR0L0"
   },
   "source": [
    "`collate_fn` is a function that specifies how to combine individual examples into a batch. It is passed to the `DataLoader`, and it handles:\n",
    "\n",
    "- Padding sequences to the same length, which is the maximum length of any sequence in that batch (so they can be stacked into a matrix).\n",
    "\n",
    "- Keeping track of original lengths, which is important for models like RNNs to avoid wasting computation on pad tokens."
   ]
  },
  {
   "cell_type": "code",
   "execution_count": 13,
   "metadata": {
    "id": "qQDyXZKIRxBG"
   },
   "outputs": [],
   "source": [
    "def collate_fn(batch):\n",
    "    inputs, targets = zip(*batch)\n",
    "    # we need to keep track of the lengths of the input sequences\n",
    "    input_lengths = [len(seq) for seq in inputs]\n",
    "    inputs = nn.utils.rnn.pad_sequence(inputs, batch_first=True, padding_value=input_w2i[\"<pad>\"])\n",
    "    targets = nn.utils.rnn.pad_sequence(targets, batch_first=True, padding_value=output_w2i[\"<pad>\"])\n",
    "    return inputs, targets, input_lengths"
   ]
  },
  {
   "cell_type": "markdown",
   "metadata": {
    "id": "Qjl_ZOw9eB5I"
   },
   "source": [
    "We then use `collate_fn` to create instances of dataloaders for both the train and test splits. It is worth noting that:\n",
    "\n",
    "- The value of `BATCH_SIZE` is usually a power of 2. The choice represents a trade-off between high values (high memory load, more stable gradients) and low values (low memory load, less stable gradients).\n",
    "- We shuffle the training data loader to make sure that each batch is a random sample. Technical note: this guarantees that the gradient estimate we obtain on a single batch of examples is unbiased with respect to the true gradient for the whole dataset."
   ]
  },
  {
   "cell_type": "code",
   "execution_count": 14,
   "metadata": {
    "id": "vXkU0xbs1B8j"
   },
   "outputs": [],
   "source": [
    "BATCH_SIZE = 32\n",
    "\n",
    "train_dataset = SCANDataset(train_data, input_w2i, output_w2i)#将字符转为vector\n",
    "train_loader = DataLoader(train_dataset, batch_size=BATCH_SIZE, shuffle=True, collate_fn=collate_fn)\n",
    "\n",
    "test_dataset = SCANDataset(test_data, input_w2i, output_w2i)\n",
    "test_loader = DataLoader(test_dataset, batch_size=BATCH_SIZE, collate_fn=collate_fn)"
   ]
  },
  {
   "cell_type": "markdown",
   "metadata": {
    "id": "LXv2S8AbUzLl"
   },
   "source": [
    "Here are a few example batches from the train_loader:"
   ]
  },
  {
   "cell_type": "code",
   "execution_count": 15,
   "metadata": {
    "id": "UisBFsIzSVe5"
   },
   "outputs": [
    {
     "name": "stdout",
     "output_type": "stream",
     "text": [
      "Input tensor (padded) has shape: torch.Size([32, 10]) \n",
      "\n",
      "This means there are 32 training samples (input sequences), with all the sequences padded to 10 tokens as the max length\n",
      "\n",
      "Below is the first batch of input sequences:\n",
      "\n",
      "tensor([[ 6,  9, 10, 12,  3,  6,  9, 10, 12,  2],\n",
      "        [13,  5, 10,  4, 11,  2,  0,  0,  0,  0],\n",
      "        [ 8,  9, 10, 14,  4, 15,  5, 10, 14,  2],\n",
      "        [ 8, 10, 14,  3, 15,  5, 10, 12,  2,  0],\n",
      "        [ 8,  9,  7, 12,  3,  8,  2,  0,  0,  0],\n",
      "        [13,  9, 10,  4,  6,  9,  7, 12,  2,  0],\n",
      "        [11,  9, 10,  4, 13,  5, 10,  2,  0,  0],\n",
      "        [15,  5,  7, 14,  4,  8,  9,  7,  2,  0],\n",
      "        [11,  5, 10, 14,  3, 11,  9,  7, 14,  2],\n",
      "        [15,  9,  7, 14,  4, 15, 14,  2,  0,  0],\n",
      "        [ 6,  5,  7, 14,  4, 11,  9, 10,  2,  0],\n",
      "        [ 8,  7, 12,  4, 13, 10,  2,  0,  0,  0],\n",
      "        [11,  7,  3, 13,  5,  7, 14,  2,  0,  0],\n",
      "        [ 6,  9, 10,  4, 11,  9, 10,  2,  0,  0],\n",
      "        [ 6,  7, 12,  3, 13,  5, 10, 14,  2,  0],\n",
      "        [ 6,  3,  6,  9,  7, 12,  2,  0,  0,  0],\n",
      "        [13,  5,  7, 14,  4, 11, 10, 14,  2,  0],\n",
      "        [ 8,  9, 10, 14,  3, 13,  5,  7,  2,  0],\n",
      "        [13,  9,  7, 12,  3, 11,  5, 10, 12,  2],\n",
      "        [ 8,  7,  3, 13,  5,  7, 12,  2,  0,  0],\n",
      "        [11,  9, 10,  3, 15, 12,  2,  0,  0,  0],\n",
      "        [13,  9,  7, 14,  4,  8,  9, 10, 12,  2],\n",
      "        [ 6, 10,  4, 15,  9, 10, 12,  2,  0,  0],\n",
      "        [15,  5, 10,  3,  8,  5,  7, 14,  2,  0],\n",
      "        [15, 10,  4, 13,  5, 10, 14,  2,  0,  0],\n",
      "        [ 6,  5,  7,  4, 13,  5, 10, 12,  2,  0],\n",
      "        [11,  9,  7, 14,  3, 11, 14,  2,  0,  0],\n",
      "        [13, 10, 12,  3,  8, 14,  2,  0,  0,  0],\n",
      "        [ 8,  9,  7, 12,  4, 11,  5, 10, 12,  2],\n",
      "        [ 6,  5,  7, 12,  4, 13,  7, 14,  2,  0],\n",
      "        [ 8, 10,  4, 15,  7,  2,  0,  0,  0,  0],\n",
      "        [13,  9, 10, 14,  4,  8,  9, 10, 14,  2]]) \n",
      "\n",
      "(recall 0 is the index for the <pad> token)\n",
      "\n",
      "Actual lengths of the 32 input sequences: [10, 6, 10, 9, 7, 9, 8, 9, 10, 8, 9, 7, 8, 8, 9, 7, 9, 9, 10, 8, 7, 10, 8, 9, 8, 9, 8, 7, 10, 9, 6, 10] \n",
      "\n",
      "Output tensor (padded) has shape: torch.Size([32, 34]) \n",
      "\n",
      "This means there are 32 training samples (output sequences), with all the sequences padded to 34 tokens as the max length\n",
      "\n",
      "Below is the first batch of output sequence:\n",
      "\n",
      "tensor([[7, 7, 3,  ..., 0, 0, 0],\n",
      "        [7, 7, 7,  ..., 0, 0, 0],\n",
      "        [7, 7, 4,  ..., 0, 0, 0],\n",
      "        ...,\n",
      "        [6, 3, 6,  ..., 0, 0, 0],\n",
      "        [7, 4, 6,  ..., 0, 0, 0],\n",
      "        [7, 7, 7,  ..., 0, 0, 0]]) \n",
      "\n"
     ]
    }
   ],
   "source": [
    "inputs, targets, input_lengths = next(iter(train_loader))\n",
    "\n",
    "print(\"Input tensor (padded) has shape:\", inputs.shape, \"\\n\")\n",
    "print(f'This means there are {inputs.shape[0]} training samples (input sequences), with all the sequences padded to {inputs.shape[1]} tokens as the max length\\n')\n",
    "print('Below is the first batch of input sequences:\\n')\n",
    "print(inputs, \"\\n\")\n",
    "print('(recall 0 is the index for the <pad> token)\\n')\n",
    "print(\"Actual lengths of the 32 input sequences:\", input_lengths, \"\\n\")\n",
    "print(\"Output tensor (padded) has shape:\", targets.shape, \"\\n\")\n",
    "print(f'This means there are {targets.shape[0]} training samples (output sequences), with all the sequences padded to {targets.shape[1]} tokens as the max length\\n')\n",
    "print('Below is the first batch of output sequence:\\n')\n",
    "print(targets, \"\\n\")\n"
   ]
  },
  {
   "cell_type": "markdown",
   "metadata": {
    "id": "Cu8G5w74cu_w"
   },
   "source": [
    "# 5. Sequence-to-sequence model"
   ]
  },
  {
   "cell_type": "markdown",
   "metadata": {
    "id": "VusYKtOqLGSd"
   },
   "source": [
    "Let's start implementing in `torch` our recurrent model, which consists of an encoder and a decoder:\n",
    "\n",
    "- the **encoder** maps the input sequence of words into a sequence of hidden representations.\n",
    "- the **decoder** maps the sequence of hidden representations into a sequence of actions.\n",
    "\n",
    "We will implement a kind of recurrent network called a Gated Recurrent Unit (GRU; [Cho et al. 2014](https://arxiv.org/pdf/1406.1078)). In comparison with vanilla RNNs, GRUs have learnable gates that stabilise learning by avoiding the risk of gradient vanishing and explosion.\n",
    "\n",
    "The encoder (and the decoder) will consist of a class inheriting from `nn.Module` (via `super().__init__()`): this way, this class will automatically keep track of trainable parameters and their gradients. Both classes contain two methods:\n",
    "\n",
    "`__init__`: This method defines the architecture of the model by specifying each layer within the model. Each layer is initialized with the appropriate input and output dimensions (and possibly other keyword arguments):\n",
    "\n",
    "- An `Embedding` layer maps token indices (with `vocab_size` as the size of the vocabulary) to dense vector representations with dimensionality `hidden_size`.\n",
    "\n",
    "- In the `GRU` layer, the first `hidden_size` indicates the size of each input vector (which is the output of the embedding layer). The second `hidden_size` specifies the size of the GRU's hidden state. These two values are identical in our implementation, but they don't necessarily have to be the same. `num_layers=2` stacks two `GRU` layers, allowing the model to capture more complex temporal dependencies.\n",
    "\n",
    "\n",
    "`forward`: This method outlines the computation that occurs when data is passed through the layers within the model to produce the output."
   ]
  },
  {
   "cell_type": "code",
   "execution_count": 16,
   "metadata": {
    "id": "0CLd8077rVKd"
   },
   "outputs": [],
   "source": [
    "class Encoder(nn.Module):\n",
    "    def __init__(self, vocab_size, hidden_size):\n",
    "        super().__init__()\n",
    "        self.embedding = nn.Embedding(vocab_size,\n",
    "                                      hidden_size)\n",
    "        self.rnn = nn.GRU(input_size=hidden_size,\n",
    "                          hidden_size=hidden_size,\n",
    "                          num_layers=2,\n",
    "                          batch_first=True)\n",
    "\n",
    "    def forward(self, input, lengths):\n",
    "        # input shape: [batch_size, seq_len]\n",
    "        embedded = self.embedding(input)\n",
    "        # embedded shape: [batch_size, seq_len, hidden_size]\n",
    "\n",
    "        # See note below on packing\n",
    "        packed = nn.utils.rnn.pack_padded_sequence(\n",
    "            embedded,\n",
    "            lengths,\n",
    "            batch_first=True,\n",
    "            enforce_sorted=False\n",
    "        )\n",
    "        x, hidden = self.rnn(packed)\n",
    "        # hidden shape: [num_layers, batch_size, hidden_size]\n",
    "        return hidden\n"
   ]
  },
  {
   "cell_type": "markdown",
   "metadata": {
    "id": "e1pL4MRZd74M"
   },
   "source": [
    "## Note on Packing\n",
    "\n",
    "RNNs, by default, will process the padding tokens as a normal input token unless told otherwise — which wastes computation and add noise to the training.\n",
    "\n",
    "`pack_padded_sequence` tells the RNN to skip the padding tokens and only compute over the actual (unpadded) content."
   ]
  },
  {
   "cell_type": "markdown",
   "metadata": {
    "id": "1DvlCEWhavGF"
   },
   "source": [
    "## Exercise 3\n",
    "\n",
    "Now implement the `__init__` method of the `Decoder`. Remember to add:\n",
    "\n",
    "- an `Embedding` layer, to embed the sequence of decoded output actions.\n",
    "- 2 `GRU` layers.\n",
    "- a `Linear` layer (used only in the decoder), which projects vectors of dimensionality `hidden_size` back to `vocab_size` to map hidden states to output actions."
   ]
  },
  {
   "cell_type": "code",
   "execution_count": 25,
   "metadata": {
    "id": "FC5rONVW_0z9"
   },
   "outputs": [],
   "source": [
    "class Decoder(nn.Module):\n",
    "    def __init__(self, vocab_size, hidden_size):\n",
    "        ################\n",
    "        # YOUR CODE HERE\n",
    "        ################\n",
    "        super().__init__()\n",
    "        self.embedding = nn.Embedding(vocab_size,\n",
    "                                      hidden_size)\n",
    "        self.rnn = nn.GRU(input_size = hidden_size, \n",
    "                          hidden_size= hidden_size, \n",
    "                          num_layers=2,\n",
    "                          batch_first=True)\n",
    "        self.out = nn.Linear(hidden_size,\n",
    "                             vocab_size)\n",
    "    def forward(self, input, hidden):\n",
    "        # input shape: [batch_size, 1]\n",
    "        embedded = self.embedding(input)\n",
    "        # embedded shape: [batch_size, 1, hidden_size]\n",
    "        output, hidden = self.rnn(embedded, hidden)\n",
    "        # hidden shape: [batch_size, 1, hidden_size]\n",
    "        output = self.out(output.squeeze(1))\n",
    "        # output shape: [batch_size, vocab_size]\n",
    "        return output, hidden\n"
   ]
  },
  {
   "cell_type": "markdown",
   "metadata": {
    "id": "3mIpYQhijaRV"
   },
   "source": [
    "# 6. Training the model\n",
    "\n",
    "We can create instances of an encoder and a decoder with the following specifications:"
   ]
  },
  {
   "cell_type": "code",
   "execution_count": 26,
   "metadata": {
    "id": "8edgbCYFaetP"
   },
   "outputs": [],
   "source": [
    "HIDDEN_SIZE = 200\n",
    "\n",
    "example_encoder = Encoder(len(input_w2i), HIDDEN_SIZE)\n",
    "example_decoder = Decoder(len(output_w2i), HIDDEN_SIZE)"
   ]
  },
  {
   "cell_type": "markdown",
   "metadata": {
    "id": "HufQmsnSjtLH"
   },
   "source": [
    "We can check the layers inside the encoder and the decoder with:"
   ]
  },
  {
   "cell_type": "code",
   "execution_count": 27,
   "metadata": {
    "id": "F34t3264joOZ"
   },
   "outputs": [
    {
     "data": {
      "text/plain": [
       "Encoder(\n",
       "  (embedding): Embedding(16, 200)\n",
       "  (rnn): GRU(200, 200, num_layers=2, batch_first=True)\n",
       ")"
      ]
     },
     "execution_count": 27,
     "metadata": {},
     "output_type": "execute_result"
    }
   ],
   "source": [
    "example_encoder"
   ]
  },
  {
   "cell_type": "code",
   "execution_count": 28,
   "metadata": {
    "id": "bhcxyr3kjnSs"
   },
   "outputs": [
    {
     "data": {
      "text/plain": [
       "Decoder(\n",
       "  (embedding): Embedding(9, 200)\n",
       "  (rnn): GRU(200, 200, num_layers=2, batch_first=True)\n",
       "  (out): Linear(in_features=200, out_features=9, bias=True)\n",
       ")"
      ]
     },
     "execution_count": 28,
     "metadata": {},
     "output_type": "execute_result"
    }
   ],
   "source": [
    "example_decoder"
   ]
  },
  {
   "cell_type": "markdown",
   "metadata": {
    "id": "mqmW6576z_j-"
   },
   "source": [
    "We are now ready to train our GRU encoder-decoder on SCAN!\n",
    "\n",
    "We will use `wandb` to help us keep track of the important metrics, such as the training loss."
   ]
  },
  {
   "cell_type": "code",
   "execution_count": 29,
   "metadata": {
    "id": "ZpZYi-tU305d"
   },
   "outputs": [],
   "source": [
    "def train_model(run_name, num_epochs, learning_rate, hidden_units=200):\n",
    "    # Initialize wandb to track the experiment metrics\n",
    "    wandb.init(project=\"scan-seq2seq\", name=run_name)\n",
    "\n",
    "    # Initialise your encoder-decoder GRU\n",
    "    encoder = Encoder(len(input_w2i), hidden_units)\n",
    "    decoder = Decoder(len(output_w2i), hidden_units)\n",
    "    wandb.watch(encoder)\n",
    "    wandb.watch(decoder)\n",
    "\n",
    "    # Create dataset and dataloader\n",
    "    dataset = SCANDataset(train_data, input_w2i, output_w2i)\n",
    "    loader = DataLoader(dataset, batch_size=BATCH_SIZE, shuffle=True, collate_fn=collate_fn)\n",
    "\n",
    "    # Use the Adam optimizer and a cross-entropy loss\n",
    "    optimizer = optim.Adam(list(encoder.parameters()) + list(decoder.parameters()), lr=learning_rate)\n",
    "    loss_fn = nn.CrossEntropyLoss(ignore_index=output_w2i[\"<pad>\"])\n",
    "\n",
    "    for epoch in range(num_epochs):\n",
    "        total_loss = 0\n",
    "        # For every example,\n",
    "        for inputs, targets, lengths in tqdm(loader):\n",
    "            # remove any gradients currently stored in the optimizer\n",
    "            optimizer.zero_grad()\n",
    "\n",
    "            # encode the input into a sequence of hidden states\n",
    "            encoder_output = encoder(inputs, lengths)\n",
    "\n",
    "            # initialize the decoder input as a BOS token for the entire batch\n",
    "            decoder_input = torch.full(\n",
    "                (targets.size(0),),\n",
    "                output_w2i[\"<bos>\"],\n",
    "                dtype=torch.long,\n",
    "            ).unsqueeze(1)\n",
    "\n",
    "            # use the last hidden state of the encoder to initialize the hidden state of the decoder\n",
    "            decoder_hidden = encoder_output\n",
    "\n",
    "            # for every time step,\n",
    "            loss = 0\n",
    "            for t in range(targets.size(1)):\n",
    "                # decode an action\n",
    "                output, decoder_hidden = decoder(decoder_input, decoder_hidden)\n",
    "                # calculate the loss\n",
    "                loss += loss_fn(output, targets[:, t])\n",
    "                # update the decoder input via \"teacher forcing\"\n",
    "                decoder_input = targets[:, t].unsqueeze(1)\n",
    "\n",
    "            # perform a step of gradient descent by\n",
    "            # 1) calculating the gradients for all trainable parameters via backpropagation\n",
    "            loss.backward()\n",
    "            # 2) updating the parameter values based on the gradients\n",
    "            optimizer.step()\n",
    "\n",
    "            # track the total loss\n",
    "            total_loss += loss.item()\n",
    "\n",
    "        wandb.log({\"loss\": total_loss / len(loader)})\n",
    "\n",
    "    wandb.finish()\n",
    "\n",
    "    # return the trained encoder and decoder\n",
    "    return encoder, decoder"
   ]
  },
  {
   "cell_type": "markdown",
   "metadata": {
    "id": "VZDykUvVaBn8"
   },
   "source": [
    "Now we can run the `train_model` function.\n",
    "Note that usually, we would save the **checkpoint** of a model (i.e., the model state including its current parameter values) every few epochs during training; however, here we only return the model state after final epoch in this case as both the model and the data are quite small.\n",
    "\n",
    "When running the code below, you will be prompted to log into Weights & Biases (`wandb`), and will need to create an account if you don't already have one.\n",
    "Follow the instructions to copy and paste the API key: after verifying your email, make sure to select \"Academic\" when creating your account. Skip the creation of an organization profile, then choose \"Models\" when asked \"What do you want to try first?\".\n",
    "\n",
    "Each training run would take around 5-10 minutes to run on a CPU.\n",
    "While the model is running, you should start solving Exercise 4.1, 4.2, and 4.3 below. From time to time, check the loss logged during the training run at the link following `View run at`."
   ]
  },
  {
   "cell_type": "code",
   "execution_count": 30,
   "metadata": {
    "id": "TK8Wxh7HumO0"
   },
   "outputs": [
    {
     "data": {
      "text/html": [
       "Finishing previous runs because reinit is set to 'default'."
      ],
      "text/plain": [
       "<IPython.core.display.HTML object>"
      ]
     },
     "metadata": {},
     "output_type": "display_data"
    },
    {
     "data": {
      "text/html": [],
      "text/plain": [
       "<IPython.core.display.HTML object>"
      ]
     },
     "metadata": {},
     "output_type": "display_data"
    },
    {
     "data": {
      "text/html": [
       " View run <strong style=\"color:#cdcd00\">5-0.001</strong> at: <a href='https://wandb.ai/s2807348-the-university-of-edinburgh/scan-seq2seq/runs/qxfusudz' target=\"_blank\">https://wandb.ai/s2807348-the-university-of-edinburgh/scan-seq2seq/runs/qxfusudz</a><br> View project at: <a href='https://wandb.ai/s2807348-the-university-of-edinburgh/scan-seq2seq' target=\"_blank\">https://wandb.ai/s2807348-the-university-of-edinburgh/scan-seq2seq</a><br>Synced 5 W&B file(s), 0 media file(s), 0 artifact file(s) and 0 other file(s)"
      ],
      "text/plain": [
       "<IPython.core.display.HTML object>"
      ]
     },
     "metadata": {},
     "output_type": "display_data"
    },
    {
     "data": {
      "text/html": [
       "Find logs at: <code>./wandb/run-20251020_165709-qxfusudz/logs</code>"
      ],
      "text/plain": [
       "<IPython.core.display.HTML object>"
      ]
     },
     "metadata": {},
     "output_type": "display_data"
    },
    {
     "data": {
      "text/html": [],
      "text/plain": [
       "<IPython.core.display.HTML object>"
      ]
     },
     "metadata": {},
     "output_type": "display_data"
    },
    {
     "data": {
      "text/html": [
       "Tracking run with wandb version 0.22.2"
      ],
      "text/plain": [
       "<IPython.core.display.HTML object>"
      ]
     },
     "metadata": {},
     "output_type": "display_data"
    },
    {
     "data": {
      "text/html": [
       "Run data is saved locally in <code>/home/jovyan/ANLP/ANLP_labs/lab_3/wandb/run-20251020_170037-sdwnti8m</code>"
      ],
      "text/plain": [
       "<IPython.core.display.HTML object>"
      ]
     },
     "metadata": {},
     "output_type": "display_data"
    },
    {
     "data": {
      "text/html": [
       "Syncing run <strong><a href='https://wandb.ai/s2807348-the-university-of-edinburgh/scan-seq2seq/runs/sdwnti8m' target=\"_blank\">5-0.001</a></strong> to <a href='https://wandb.ai/s2807348-the-university-of-edinburgh/scan-seq2seq' target=\"_blank\">Weights & Biases</a> (<a href='https://wandb.me/developer-guide' target=\"_blank\">docs</a>)<br>"
      ],
      "text/plain": [
       "<IPython.core.display.HTML object>"
      ]
     },
     "metadata": {},
     "output_type": "display_data"
    },
    {
     "data": {
      "text/html": [
       " View project at <a href='https://wandb.ai/s2807348-the-university-of-edinburgh/scan-seq2seq' target=\"_blank\">https://wandb.ai/s2807348-the-university-of-edinburgh/scan-seq2seq</a>"
      ],
      "text/plain": [
       "<IPython.core.display.HTML object>"
      ]
     },
     "metadata": {},
     "output_type": "display_data"
    },
    {
     "data": {
      "text/html": [
       " View run at <a href='https://wandb.ai/s2807348-the-university-of-edinburgh/scan-seq2seq/runs/sdwnti8m' target=\"_blank\">https://wandb.ai/s2807348-the-university-of-edinburgh/scan-seq2seq/runs/sdwnti8m</a>"
      ],
      "text/plain": [
       "<IPython.core.display.HTML object>"
      ]
     },
     "metadata": {},
     "output_type": "display_data"
    },
    {
     "name": "stderr",
     "output_type": "stream",
     "text": [
      "100%|██████████| 523/523 [01:30<00:00,  5.81it/s]\n",
      "100%|██████████| 523/523 [01:29<00:00,  5.88it/s]\n",
      "100%|██████████| 523/523 [01:29<00:00,  5.86it/s]\n",
      "100%|██████████| 523/523 [01:27<00:00,  5.96it/s]\n",
      "100%|██████████| 523/523 [01:27<00:00,  5.95it/s]\n"
     ]
    },
    {
     "data": {
      "text/html": [],
      "text/plain": [
       "<IPython.core.display.HTML object>"
      ]
     },
     "metadata": {},
     "output_type": "display_data"
    },
    {
     "data": {
      "text/html": [
       "<br>    <style><br>        .wandb-row {<br>            display: flex;<br>            flex-direction: row;<br>            flex-wrap: wrap;<br>            justify-content: flex-start;<br>            width: 100%;<br>        }<br>        .wandb-col {<br>            display: flex;<br>            flex-direction: column;<br>            flex-basis: 100%;<br>            flex: 1;<br>            padding: 10px;<br>        }<br>    </style><br><div class=\"wandb-row\"><div class=\"wandb-col\"><h3>Run history:</h3><br/><table class=\"wandb\"><tr><td>loss</td><td>█▃▂▁▁</td></tr></table><br/></div><div class=\"wandb-col\"><h3>Run summary:</h3><br/><table class=\"wandb\"><tr><td>loss</td><td>2.32432</td></tr></table><br/></div></div>"
      ],
      "text/plain": [
       "<IPython.core.display.HTML object>"
      ]
     },
     "metadata": {},
     "output_type": "display_data"
    },
    {
     "data": {
      "text/html": [
       " View run <strong style=\"color:#cdcd00\">5-0.001</strong> at: <a href='https://wandb.ai/s2807348-the-university-of-edinburgh/scan-seq2seq/runs/sdwnti8m' target=\"_blank\">https://wandb.ai/s2807348-the-university-of-edinburgh/scan-seq2seq/runs/sdwnti8m</a><br> View project at: <a href='https://wandb.ai/s2807348-the-university-of-edinburgh/scan-seq2seq' target=\"_blank\">https://wandb.ai/s2807348-the-university-of-edinburgh/scan-seq2seq</a><br>Synced 5 W&B file(s), 0 media file(s), 0 artifact file(s) and 0 other file(s)"
      ],
      "text/plain": [
       "<IPython.core.display.HTML object>"
      ]
     },
     "metadata": {},
     "output_type": "display_data"
    },
    {
     "data": {
      "text/html": [
       "Find logs at: <code>./wandb/run-20251020_170037-sdwnti8m/logs</code>"
      ],
      "text/plain": [
       "<IPython.core.display.HTML object>"
      ]
     },
     "metadata": {},
     "output_type": "display_data"
    }
   ],
   "source": [
    "n_epochs = 5\n",
    "lr = 0.001\n",
    "gru_encoder, gru_decoder = train_model(f\"{n_epochs}-{lr}\", n_epochs, lr)"
   ]
  },
  {
   "cell_type": "markdown",
   "metadata": {
    "id": "Kb2q0_SObfK0"
   },
   "source": [
    "## Exercise 4\n",
    "\n",
    "1. Which different hyperparameter settings could you explore to further enhance model performance in our code, in terms of optimization（lr batchsize） and model architecture（layer hidden units）?\n",
    "2. In the code above, we are backpropagating after recurring across the entire target sequence (rather than after each step): which ramifications may this have for the model's gradients? vanishing and exploded\n",
    "3. The `train_model` function uses \"teacher forcing\". Can you explain what teacher forcing is and why it is used in training sequence-to-sequence models?\n",
    "4. Based on the loss profile, do you think we need to train more epochs? What other information can you use to decide when to stop training?\n"
   ]
  },
  {
   "cell_type": "markdown",
   "metadata": {
    "id": "HXdcPTUh01Iw"
   },
   "source": [
    "# 7. Evaluating the model\n",
    "\n",
    "We can evaluate the performance of the trained sequence-to-sequence model using both qualitative and quantitative methods:\n",
    "1. **Qualitative Evaluation**.\n",
    "\n",
    "We inspect the model’s predictions on selected test examples to assess whether it produces outputs that are:\n",
    "\n",
    "- Syntactically well-formed (e.g., following the correct command structure)\n",
    "\n",
    "- Semantically correct (e.g., executing the intended action)\n",
    "\n",
    "This manual analysis helps reveal specific patterns in the model’s successes and failures, such as whether it correctly handles modifiers like \"*twice*\" or \"*around*\" right.\n",
    "\n",
    "2. **Quantitative Evaluation**.\n",
    "\n",
    "We use standard automatic metrics to assess performance across the test set:\n",
    "\n",
    "- Exact Match (Accuracy):\n",
    "The proportion of test examples for which the model’s entire output sequence exactly matches the ground-truth (aka gold-standard or target) sequence.\n",
    "\n",
    "- n-gram overlap (BLEU):\n",
    "Calculates how many short subsequences (n-grams) overlap between the prediction and the ground truth, capturing partial correctness.\n"
   ]
  },
  {
   "cell_type": "code",
   "execution_count": 31,
   "metadata": {
    "id": "P86C8-LhubCR"
   },
   "outputs": [],
   "source": [
    "def evaluate_model(encoder, decoder, dataset, max_len=50):\n",
    "    sequences_to_evaluate = []\n",
    "\n",
    "    # load test data\n",
    "    data_loader = DataLoader(dataset, batch_size=1, shuffle=False, collate_fn=collate_fn)\n",
    "\n",
    "    # switch to evaluation mode, which disables train-time behaviors like dropout\n",
    "    encoder.eval()\n",
    "    decoder.eval()\n",
    "\n",
    "    # for each test example:\n",
    "    for inputs, targets, lengths in tqdm(data_loader):\n",
    "\n",
    "        with torch.no_grad():\n",
    "            # encode the input sequence\n",
    "            encoder_output = encoder(inputs, lengths)\n",
    "\n",
    "            # initialize the decoder input as a BOS token\n",
    "            decoder_input = torch.tensor(\n",
    "                [[output_w2i[\"<bos>\"]]],\n",
    "            )  # shape (1,1)\n",
    "\n",
    "            # use the last hidden state of the encoder to initialize the hidden state of the decoder\n",
    "            decoder_hidden = encoder_output\n",
    "\n",
    "            predicted_tokens = []\n",
    "\n",
    "            # for every time step,\n",
    "            for _ in range(max_len):\n",
    "                # get the most likely next action\n",
    "                output_logits, decoder_hidden = decoder(decoder_input, decoder_hidden)\n",
    "                top1 = output_logits.argmax(1).item()\n",
    "\n",
    "                # stop generation when an EOS token is generated by the model\n",
    "                if top1 == output_w2i[\"<eos>\"]:\n",
    "                    break\n",
    "\n",
    "                predicted_tokens.append(output_i2w[top1])\n",
    "\n",
    "                # update decoder input\n",
    "                decoder_input = torch.tensor([[top1]])\n",
    "\n",
    "            # get ground truth sequence (remove <eos> and <pad>)\n",
    "            reference_tokens = [\n",
    "                output_i2w[idx.item()]\n",
    "                for idx in targets[0]\n",
    "                if idx.item() not in (output_w2i[\"<eos>\"], output_w2i[\"<pad>\"])\n",
    "            ]\n",
    "\n",
    "            sequences_to_evaluate.append((predicted_tokens, reference_tokens))\n",
    "\n",
    "    return sequences_to_evaluate\n",
    "\n",
    "def exact_match(sequences):\n",
    "    total_exact_match = 0\n",
    "\n",
    "    for predicted_tokens, reference_tokens in sequences:\n",
    "      total_exact_match += int(predicted_tokens == reference_tokens)\n",
    "\n",
    "    exact_match_accuracy = total_exact_match / len(sequences)\n",
    "    print(f\"Exact match accuracy: {exact_match_accuracy:.3f}\")\n"
   ]
  },
  {
   "cell_type": "markdown",
   "metadata": {
    "id": "sjRhdqXks7iB"
   },
   "source": [
    "Now let's get the model predictions and evaluate their exact match with the corresponding references."
   ]
  },
  {
   "cell_type": "code",
   "execution_count": 32,
   "metadata": {
    "id": "9i-V4pNB1B8o"
   },
   "outputs": [
    {
     "name": "stderr",
     "output_type": "stream",
     "text": [
      "100%|██████████| 4182/4182 [00:36<00:00, 113.03it/s]"
     ]
    },
    {
     "name": "stdout",
     "output_type": "stream",
     "text": [
      "Exact match accuracy: 0.905\n"
     ]
    },
    {
     "name": "stderr",
     "output_type": "stream",
     "text": [
      "\n"
     ]
    }
   ],
   "source": [
    "sequences = evaluate_model(gru_encoder, gru_decoder, test_dataset, max_len=50)\n",
    "exact_match(sequences)"
   ]
  },
  {
   "cell_type": "markdown",
   "metadata": {
    "id": "mFiSOeqApxnc"
   },
   "source": [
    "## Exercise 5\n",
    "\n",
    "1. Can you analyse the errors the RNN is making in a qualitative way? Review a dozen pairs of `sequences` where there is no exact match and check what's wrong with the output sequences.\n",
    "2. Exact match is excessively strict as it requires that the actions sequences are identical. Another more fine-grained evaluation metric would compute the n-gram overlap between the target and predicted action sequences. Use [BLEU from `evaluate`](https://huggingface.co/spaces/evaluate-metric/bleu) to implement this metric and evaluate the model predictions. Make sure to read the (short) documentation in the link. *Hints*: you will need to `load` the metric, prepare the predictions and references in the right format, then `compute` the metric on these sequences."
   ]
  },
  {
   "cell_type": "code",
   "execution_count": 34,
   "metadata": {},
   "outputs": [
    {
     "name": "stdout",
     "output_type": "stream",
     "text": [
      "Predicted: ['TURN_LEFT', 'TURN_LEFT', 'WALK', 'TURN_LEFT', 'TURN_LEFT', 'WALK', 'TURN_LEFT', 'TURN_LEFT', 'WALK', 'TURN_LEFT', 'JUMP', 'TURN_LEFT', 'JUMP', 'TURN_LEFT', 'JUMP', 'TURN_LEFT', 'JUMP', 'TURN_LEFT', 'JUMP', 'TURN_LEFT', 'JUMP', 'TURN_LEFT', 'JUMP', 'TURN_LEFT', 'JUMP', 'TURN_LEFT', 'JUMP', 'TURN_LEFT', 'JUMP']\n",
      "Reference: ['TURN_LEFT', 'TURN_LEFT', 'WALK', 'TURN_LEFT', 'TURN_LEFT', 'WALK', 'TURN_LEFT', 'TURN_LEFT', 'WALK', 'TURN_LEFT', 'JUMP', 'TURN_LEFT', 'JUMP', 'TURN_LEFT', 'JUMP', 'TURN_LEFT', 'JUMP', 'TURN_LEFT', 'JUMP', 'TURN_LEFT', 'JUMP', 'TURN_LEFT', 'JUMP', 'TURN_LEFT', 'JUMP']\n",
      "Predicted: ['TURN_RIGHT', 'TURN_RIGHT', 'JUMP', 'TURN_RIGHT', 'RUN', 'TURN_RIGHT', 'RUN', 'TURN_RIGHT', 'RUN', 'TURN_RIGHT', 'RUN', 'TURN_RIGHT', 'RUN', 'TURN_RIGHT', 'RUN', 'TURN_RIGHT', 'RUN', 'TURN_RIGHT', 'RUN', 'TURN_RIGHT', 'RUN', 'TURN_RIGHT', 'RUN']\n",
      "Reference: ['TURN_RIGHT', 'TURN_RIGHT', 'JUMP', 'TURN_RIGHT', 'RUN', 'TURN_RIGHT', 'RUN', 'TURN_RIGHT', 'RUN', 'TURN_RIGHT', 'RUN', 'TURN_RIGHT', 'RUN', 'TURN_RIGHT', 'RUN', 'TURN_RIGHT', 'RUN', 'TURN_RIGHT', 'RUN', 'TURN_RIGHT', 'RUN', 'TURN_RIGHT', 'RUN', 'TURN_RIGHT', 'RUN', 'TURN_RIGHT', 'RUN']\n",
      "Predicted: ['TURN_RIGHT', 'TURN_RIGHT', 'TURN_RIGHT', 'TURN_RIGHT', 'TURN_RIGHT', 'TURN_RIGHT', 'TURN_RIGHT', 'TURN_RIGHT', 'TURN_RIGHT', 'TURN_RIGHT', 'TURN_RIGHT', 'TURN_RIGHT']\n",
      "Reference: ['TURN_RIGHT', 'TURN_RIGHT', 'TURN_RIGHT', 'TURN_RIGHT', 'TURN_RIGHT', 'TURN_RIGHT', 'TURN_RIGHT', 'TURN_RIGHT', 'TURN_RIGHT', 'TURN_RIGHT', 'TURN_RIGHT', 'TURN_RIGHT', 'TURN_RIGHT']\n"
     ]
    }
   ],
   "source": [
    "def print_wrong(sequences):\n",
    "    count = 0\n",
    "    for predicted_tokens, reference_tokens in sequences:\n",
    "        if predicted_tokens != reference_tokens:\n",
    "            print(f\"Predicted: {predicted_tokens}\\nReference: {reference_tokens}\")\n",
    "            count += 1\n",
    "        if count == 3:\n",
    "          break\n",
    "\n",
    "print_wrong(sequences)"
   ]
  },
  {
   "cell_type": "code",
   "execution_count": 35,
   "metadata": {},
   "outputs": [
    {
     "data": {
      "application/vnd.jupyter.widget-view+json": {
       "model_id": "50002f07036e4579a896b324283bb0d1",
       "version_major": 2,
       "version_minor": 0
      },
      "text/plain": [
       "Downloading builder script: 0.00B [00:00, ?B/s]"
      ]
     },
     "metadata": {},
     "output_type": "display_data"
    },
    {
     "data": {
      "application/vnd.jupyter.widget-view+json": {
       "model_id": "a6fb8d661eff4d40872bdda9231a079c",
       "version_major": 2,
       "version_minor": 0
      },
      "text/plain": [
       "Downloading extra modules:   0%|          | 0.00/1.55k [00:00<?, ?B/s]"
      ]
     },
     "metadata": {},
     "output_type": "display_data"
    },
    {
     "data": {
      "application/vnd.jupyter.widget-view+json": {
       "model_id": "32b43fd0a91b4bf3b86bf4e8efc60d74",
       "version_major": 2,
       "version_minor": 0
      },
      "text/plain": [
       "Downloading extra modules: 0.00B [00:00, ?B/s]"
      ]
     },
     "metadata": {},
     "output_type": "display_data"
    },
    {
     "name": "stdout",
     "output_type": "stream",
     "text": [
      "BLEU score: 0.988\n"
     ]
    }
   ],
   "source": [
    "def evaluate_bleu(sequences):\n",
    "    bleu = evaluate.load(\"bleu\")\n",
    "    all_predictions = [\" \".join(x) for (x, y) in sequences]\n",
    "    all_references = [\" \".join(y) for (x, y) in sequences]\n",
    "\n",
    "    bleu_results = bleu.compute(predictions=all_predictions, references=all_references)\n",
    "    print(f\"BLEU score: {bleu_results['bleu']:.3f}\")\n",
    "\n",
    "evaluate_bleu(sequences)"
   ]
  },
  {
   "cell_type": "markdown",
   "metadata": {
    "id": "N2RKYiidcZfJ"
   },
   "source": [
    "# 8. Out-of-distribution (OOD) generalisation"
   ]
  },
  {
   "cell_type": "markdown",
   "metadata": {
    "id": "4F6pcmLgNhKV"
   },
   "source": [
    "Now we look at whether the GRU model can generalize outside of the training domain. For this, we look at a different training-test split, where the output sequences in the test set are all longer than the ones in the training set. This is a case of **out-of-distribution (OOD) generalization**, where the test data are not from the same distribution as the train data (hence, they are not i.i.d.)."
   ]
  },
  {
   "cell_type": "code",
   "execution_count": 36,
   "metadata": {
    "id": "E-00cIBOlPq2"
   },
   "outputs": [
    {
     "name": "stdout",
     "output_type": "stream",
     "text": [
      "--2025-10-20 17:53:07--  https://raw.githubusercontent.com/brendenlake/SCAN/refs/heads/master/length_split/tasks_train_length.txt\n",
      "Resolving raw.githubusercontent.com (raw.githubusercontent.com)... 185.199.108.133, 185.199.110.133, 185.199.109.133, ...\n",
      "Connecting to raw.githubusercontent.com (raw.githubusercontent.com)|185.199.108.133|:443... connected.\n",
      "HTTP request sent, awaiting response... 200 OK\n",
      "Length: 2723418 (2.6M) [text/plain]\n",
      "Saving to: ‘train_length.txt’\n",
      "\n",
      "train_length.txt    100%[===================>]   2.60M  --.-KB/s    in 0.08s   \n",
      "\n",
      "2025-10-20 17:53:07 (33.2 MB/s) - ‘train_length.txt’ saved [2723418/2723418]\n",
      "\n",
      "--2025-10-20 17:53:08--  https://raw.githubusercontent.com/brendenlake/SCAN/refs/heads/master/length_split/tasks_test_length.txt\n",
      "Resolving raw.githubusercontent.com (raw.githubusercontent.com)... 185.199.110.133, 185.199.111.133, 185.199.108.133, ...\n",
      "Connecting to raw.githubusercontent.com (raw.githubusercontent.com)|185.199.110.133|:443... connected.\n",
      "HTTP request sent, awaiting response... 200 OK\n",
      "Length: 1356970 (1.3M) [text/plain]\n",
      "Saving to: ‘test_length.txt’\n",
      "\n",
      "test_length.txt     100%[===================>]   1.29M  --.-KB/s    in 0.07s   \n",
      "\n",
      "2025-10-20 17:53:08 (19.4 MB/s) - ‘test_length.txt’ saved [1356970/1356970]\n",
      "\n"
     ]
    }
   ],
   "source": [
    "# Download SCAN dataset\n",
    "!wget https://raw.githubusercontent.com/brendenlake/SCAN/refs/heads/master/length_split/tasks_train_length.txt -O train_length.txt\n",
    "!wget https://raw.githubusercontent.com/brendenlake/SCAN/refs/heads/master/length_split/tasks_test_length.txt -O test_length.txt\n",
    "\n",
    "new_train_data = load_scan_file(\"train_length.txt\")\n",
    "new_test_data = load_scan_file(\"test_length.txt\")"
   ]
  },
  {
   "cell_type": "markdown",
   "metadata": {
    "id": "Qxjtu3UT5GMs"
   },
   "source": [
    "Let's inspect the distributions of lengths in the training and test sets of this data split to study how they differ. What do you notice?"
   ]
  },
  {
   "cell_type": "code",
   "execution_count": 37,
   "metadata": {
    "id": "HG9Iojj58Vo_"
   },
   "outputs": [
    {
     "data": {
      "image/png": "[encoded data removed]",
      "text/plain": [
       "<Figure size 1000x600 with 1 Axes>"
      ]
     },
     "metadata": {},
     "output_type": "display_data"
    },
    {
     "data": {
      "image/png": "[encoded data removed]",
      "text/plain": [
       "<Figure size 1000x600 with 1 Axes>"
      ]
     },
     "metadata": {},
     "output_type": "display_data"
    }
   ],
   "source": [
    "from collections import Counter, defaultdict\n",
    "import matplotlib.pyplot as plt\n",
    "\n",
    "def plot_length_distribution(data, title, sequence_type='output'):\n",
    "    if sequence_type == 'input':\n",
    "        lengths = [len(in_seq) for in_seq, _ in data]\n",
    "    elif sequence_type == 'output':\n",
    "        lengths = [len(out_seq) for _, out_seq in data]\n",
    "    else:\n",
    "        raise ValueError(\"sequence_type must be either 'input' or 'output'\")\n",
    "\n",
    "    length_counts = Counter(lengths)\n",
    "    total_examples = len(data)\n",
    "    length_proportions = {length: count / total_examples for length, count in sorted(length_counts.items())}\n",
    "\n",
    "    plt.figure(figsize=(10, 6))\n",
    "    plt.bar(length_proportions.keys(), length_proportions.values())\n",
    "    plt.xlabel(\"Sequence Length\")\n",
    "    plt.ylabel(\"Proportion of Examples\")\n",
    "    plt.title(title)\n",
    "    plt.show()\n",
    "\n",
    "plot_length_distribution(new_train_data, \"Training Set Output Length Distribution\", sequence_type='output')\n",
    "\n",
    "plot_length_distribution(new_test_data, \"Test Set Output Length Distribution\", sequence_type='output')"
   ]
  },
  {
   "cell_type": "markdown",
   "metadata": {
    "id": "5cSgpuXNBWOg"
   },
   "source": [
    "## Exercise 6"
   ]
  },
  {
   "cell_type": "markdown",
   "metadata": {
    "id": "8kcIZe61Nd9P"
   },
   "source": [
    "Using the existing code, can you\n",
    "- create loaders for the new training and test set reusing `SCANDataset`\n",
    "- train a new GRU model on the new train set reusing `train_model`\n",
    "- generate predicted sequences for the new GRU model reusing `evaluate_model`\n",
    "- code a new function to measure to how the model performs on target sequences grouped by length in terms of exact match and BLEU.\n",
    "\n",
    "Then answer the following questions:\n",
    "- What effect do you expect shifts in distribution to have on model performance? Compare evaluation metrics of your experiments on o.o.d and i.i.d. generalisation.\n",
    "- Is it realistic to expect these shifts in distribution in realistic settings where models are trained on natural language data?\n",
    "- Is it realistic to expect compositional generalisation to be sufficient to model pairs of inputs and outputs in natural language?"
   ]
  },
  {
   "cell_type": "code",
   "execution_count": 39,
   "metadata": {},
   "outputs": [],
   "source": [
    "BATCH_SIZE = 32\n",
    "\n",
    "new_train_dataset = SCANDataset(new_train_data, input_w2i, output_w2i)\n",
    "new_train_loader = DataLoader(new_train_dataset, batch_size=BATCH_SIZE, shuffle=True, collate_fn=collate_fn)\n",
    "\n",
    "new_test_dataset = SCANDataset(new_test_data, input_w2i, output_w2i)\n",
    "new_test_loader = DataLoader(new_test_dataset, batch_size=BATCH_SIZE, collate_fn=collate_fn)"
   ]
  },
  {
   "cell_type": "code",
   "execution_count": 42,
   "metadata": {},
   "outputs": [
    {
     "data": {
      "text/html": [],
      "text/plain": [
       "<IPython.core.display.HTML object>"
      ]
     },
     "metadata": {},
     "output_type": "display_data"
    },
    {
     "data": {
      "text/html": [
       "Tracking run with wandb version 0.22.2"
      ],
      "text/plain": [
       "<IPython.core.display.HTML object>"
      ]
     },
     "metadata": {},
     "output_type": "display_data"
    },
    {
     "data": {
      "text/html": [
       "Run data is saved locally in <code>/home/jovyan/ANLP/ANLP_labs/lab_3/wandb/run-20251020_181903-ws5pg1gu</code>"
      ],
      "text/plain": [
       "<IPython.core.display.HTML object>"
      ]
     },
     "metadata": {},
     "output_type": "display_data"
    },
    {
     "data": {
      "text/html": [
       "Syncing run <strong><a href='https://wandb.ai/s2807348-the-university-of-edinburgh/scan-seq2seq/runs/ws5pg1gu' target=\"_blank\">5-0.001--00D</a></strong> to <a href='https://wandb.ai/s2807348-the-university-of-edinburgh/scan-seq2seq' target=\"_blank\">Weights & Biases</a> (<a href='https://wandb.me/developer-guide' target=\"_blank\">docs</a>)<br>"
      ],
      "text/plain": [
       "<IPython.core.display.HTML object>"
      ]
     },
     "metadata": {},
     "output_type": "display_data"
    },
    {
     "data": {
      "text/html": [
       " View project at <a href='https://wandb.ai/s2807348-the-university-of-edinburgh/scan-seq2seq' target=\"_blank\">https://wandb.ai/s2807348-the-university-of-edinburgh/scan-seq2seq</a>"
      ],
      "text/plain": [
       "<IPython.core.display.HTML object>"
      ]
     },
     "metadata": {},
     "output_type": "display_data"
    },
    {
     "data": {
      "text/html": [
       " View run at <a href='https://wandb.ai/s2807348-the-university-of-edinburgh/scan-seq2seq/runs/ws5pg1gu' target=\"_blank\">https://wandb.ai/s2807348-the-university-of-edinburgh/scan-seq2seq/runs/ws5pg1gu</a>"
      ],
      "text/plain": [
       "<IPython.core.display.HTML object>"
      ]
     },
     "metadata": {},
     "output_type": "display_data"
    },
    {
     "name": "stderr",
     "output_type": "stream",
     "text": [
      "100%|██████████| 523/523 [01:24<00:00,  6.20it/s]\n",
      "100%|██████████| 523/523 [01:22<00:00,  6.35it/s]\n",
      "100%|██████████| 523/523 [01:23<00:00,  6.29it/s]\n",
      "100%|██████████| 523/523 [01:25<00:00,  6.10it/s]\n",
      "100%|██████████| 523/523 [01:24<00:00,  6.17it/s]\n"
     ]
    },
    {
     "data": {
      "text/html": [],
      "text/plain": [
       "<IPython.core.display.HTML object>"
      ]
     },
     "metadata": {},
     "output_type": "display_data"
    },
    {
     "data": {
      "text/html": [
       "<br>    <style><br>        .wandb-row {<br>            display: flex;<br>            flex-direction: row;<br>            flex-wrap: wrap;<br>            justify-content: flex-start;<br>            width: 100%;<br>        }<br>        .wandb-col {<br>            display: flex;<br>            flex-direction: column;<br>            flex-basis: 100%;<br>            flex: 1;<br>            padding: 10px;<br>        }<br>    </style><br><div class=\"wandb-row\"><div class=\"wandb-col\"><h3>Run history:</h3><br/><table class=\"wandb\"><tr><td>loss</td><td>█▃▂▁▁</td></tr></table><br/></div><div class=\"wandb-col\"><h3>Run summary:</h3><br/><table class=\"wandb\"><tr><td>loss</td><td>2.19378</td></tr></table><br/></div></div>"
      ],
      "text/plain": [
       "<IPython.core.display.HTML object>"
      ]
     },
     "metadata": {},
     "output_type": "display_data"
    },
    {
     "data": {
      "text/html": [
       " View run <strong style=\"color:#cdcd00\">5-0.001--00D</strong> at: <a href='https://wandb.ai/s2807348-the-university-of-edinburgh/scan-seq2seq/runs/ws5pg1gu' target=\"_blank\">https://wandb.ai/s2807348-the-university-of-edinburgh/scan-seq2seq/runs/ws5pg1gu</a><br> View project at: <a href='https://wandb.ai/s2807348-the-university-of-edinburgh/scan-seq2seq' target=\"_blank\">https://wandb.ai/s2807348-the-university-of-edinburgh/scan-seq2seq</a><br>Synced 5 W&B file(s), 0 media file(s), 0 artifact file(s) and 0 other file(s)"
      ],
      "text/plain": [
       "<IPython.core.display.HTML object>"
      ]
     },
     "metadata": {},
     "output_type": "display_data"
    },
    {
     "data": {
      "text/html": [
       "Find logs at: <code>./wandb/run-20251020_181903-ws5pg1gu/logs</code>"
      ],
      "text/plain": [
       "<IPython.core.display.HTML object>"
      ]
     },
     "metadata": {},
     "output_type": "display_data"
    },
    {
     "name": "stderr",
     "output_type": "stream",
     "text": [
      "100%|██████████| 3920/3920 [01:02<00:00, 62.34it/s]\n"
     ]
    }
   ],
   "source": [
    "n_epochs = 5\n",
    "lr = 0.001\n",
    "new_gru_encoder, new_gru_decoder = train_model(f\"{n_epochs}-{lr}--00D\", n_epochs, lr)\n",
    "new_sequences = evaluate_model(new_gru_encoder,new_gru_decoder,new_test_dataset,max_len=50)\n"
   ]
  },
  {
   "cell_type": "code",
   "execution_count": 43,
   "metadata": {},
   "outputs": [
    {
     "name": "stdout",
     "output_type": "stream",
     "text": [
      "Exact match accuracy: 0.853\n",
      "Length 24 | Accuracy: 0.869\n",
      "Length 25 | Accuracy: 0.877\n",
      "Length 26 | Accuracy: 0.889\n",
      "Length 27 | Accuracy: 0.944\n",
      "Length 28 | Accuracy: 0.786\n",
      "Length 30 | Accuracy: 0.910\n",
      "Length 32 | Accuracy: 0.848\n",
      "Length 33 | Accuracy: 0.922\n",
      "Length 36 | Accuracy: 0.422\n",
      "Length 40 | Accuracy: 0.703\n",
      "Length 48 | Accuracy: 0.633\n"
     ]
    }
   ],
   "source": [
    "def exact_match_per_length(sequences):\n",
    "    length2em = defaultdict(list)\n",
    "\n",
    "    for predicted_tokens, reference_tokens in sequences:\n",
    "        exact_match = int(predicted_tokens == reference_tokens)\n",
    "        ref_len = len(reference_tokens)\n",
    "        length2em[ref_len] += [exact_match]#按照不同length进行统计 length：[count1][count2][count3]\n",
    "\n",
    "    # Compute accuracy per output length\n",
    "    for length in sorted(length2em.keys()):\n",
    "        acc = sum(length2em[length]) / len(length2em[length])\n",
    "        print(f\"Length {length:2d} | Accuracy: {acc:.3f}\")\n",
    "\n",
    "exact_match(new_sequences)\n",
    "exact_match_per_length(new_sequences)"
   ]
  },
  {
   "cell_type": "code",
   "execution_count": null,
   "metadata": {},
   "outputs": [],
   "source": []
  }
 ],
 "metadata": {
  "accelerator": "GPU",
  "colab": {
   "gpuType": "T4",
   "provenance": [],
   "toc_visible": true
  },
  "kernelspec": {
   "display_name": "Python 3 (ipykernel)",
   "language": "python",
   "name": "python3"
  },
  "language_info": {
   "codemirror_mode": {
    "name": "ipython",
    "version": 3
   },
   "file_extension": ".py",
   "mimetype": "text/x-python",
   "name": "python",
   "nbconvert_exporter": "python",
   "pygments_lexer": "ipython3",
   "version": "3.12.11"
  }
 },
 "nbformat": 4,
 "nbformat_minor": 0
}
