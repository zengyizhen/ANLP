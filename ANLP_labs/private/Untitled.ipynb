{
 "cells": [
  {
   "cell_type": "markdown",
   "id": "520c9b19-b2f8-4fd8-909e-5517277f7052",
   "metadata": {},
   "source": [
    "# BPE（byte-pair encode）"
   ]
  },
  {
   "cell_type": "markdown",
   "id": "2d1cf1e4-ce94-450e-b69b-9e9bd40fbc4d",
   "metadata": {},
   "source": [
    "![](img/BPE_algorithm.png)"
   ]
  },
  {
   "cell_type": "markdown",
   "id": "7209f988-a817-42c0-bad0-3e0c462e8811",
   "metadata": {},
   "source": [
    "算法步骤\n",
    "1. 初始化时，把句子分成字符级 token；初始化词表V\n",
    "2. 统计所有相邻 token 对出现频率；\n",
    "3. 找出频率最高的 token 对，将它们合并为一个新 token；加入词表V\n",
    "4. 重复合并操作若干轮，生成合并规则；\n",
    "5. 用这些规则将输入文本编码为“子词序列”；"
   ]
  },
  {
   "cell_type": "code",
   "execution_count": 4,
   "id": "3be4d0cc-9b80-4d2c-8451-a6668ef0cb92",
   "metadata": {},
   "outputs": [
    {
     "name": "stdout",
     "output_type": "stream",
     "text": [
      "bytearray(b'This is some textabcdABCD')\n"
     ]
    }
   ],
   "source": [
    "text = \"This is some textabcdABCD\"\n",
    "byte_ary = bytearray(text, \"utf-8\")\n",
    "print(byte_ary)"
   ]
  },
  {
   "cell_type": "code",
   "execution_count": 5,
   "id": "4b8c7b6b-74cb-47cf-8284-2b7bbde18d3f",
   "metadata": {},
   "outputs": [
    {
     "name": "stdout",
     "output_type": "stream",
     "text": [
      "[84, 104, 105, 115, 32, 105, 115, 32, 115, 111, 109, 101, 32, 116, 101, 120, 116, 97, 98, 99, 100, 65, 66, 67, 68]\n"
     ]
    }
   ],
   "source": [
    "ids=list(byte_ary)\n",
    "print(ids)"
   ]
  },
  {
   "cell_type": "markdown",
   "id": "028eb0fc-1303-41b2-8365-734050a96a9c",
   "metadata": {},
   "source": [
    "However, the downside of this approach is that it is creating one ID for each character (that’s a lot of IDs for a short text!)"
   ]
  },
  {
   "cell_type": "markdown",
   "id": "cfa271a3-333f-400e-b830-86eb30317bd0",
   "metadata": {},
   "source": [
    "1bytes--[0,255)"
   ]
  },
  {
   "cell_type": "code",
   "execution_count": 59,
   "id": "fe76affa-0701-40c6-8bea-08ab162f233b",
   "metadata": {},
   "outputs": [
    {
     "name": "stdout",
     "output_type": "stream",
     "text": [
      "vocab: {'low</w>': 3, 'low l y</w>': 1, 'low er </w>': 1, 'n e w er </w>': 2, 'h a p p y</w>': 2, 'd o g </w>': 1, 'c a t </w>': 1}\n",
      "bpe_code: {('l', 'o'): 0, ('lo', 'w'): 1, ('low', '</w>'): 2, ('y', '</w>'): 3, ('e', 'r'): 4}\n",
      "low lowly \n",
      "['h', 'i', 'low', 'e', 's', 't', '</w>']\n"
     ]
    }
   ],
   "source": [
    "\n",
    "from collections import defaultdict\n",
    "class BPETokenizer:\n",
    "    #constructer\n",
    "    def __init__(self,vocab_size):\n",
    "        self.vocab_size = vocab_size\n",
    "        self.bpe_codes = {}#对应上述算法中的vocabulary \n",
    "        self.vocab = {}#对应上述算法中的corpus,每次合并都会有字符上的变动  <258>cat in <258>hat\n",
    "    \n",
    "    def get_vocab(self, corpus):\n",
    "        #corpus =['low low low lowly lower newer newer']\n",
    "        #output: {low</w>:3, ....newer:2}\n",
    "        vocab = defaultdict(int)#value: frequency\n",
    "        for sentence in corpus: \n",
    "            words =  sentence.strip().split()\n",
    "            for word in words:\n",
    "                word=' '.join(word)+\" </w>\"\n",
    "                vocab[word]+=1\n",
    "        return vocab\n",
    "    def get_stats(self, vocab):\n",
    "        #计算当前pairs的frequency\n",
    "        pairs = defaultdict(int)\n",
    "        for word, freq in vocab.items():\n",
    "            symbols = word.split(' ')\n",
    "            for i in range(len(symbols)-1):\n",
    "                pairs[symbols[i],symbols[i+1]]+=freq\n",
    "        return pairs\n",
    "    def merge_vocab(self, pair, vocab_in):\n",
    "        #合并pair中的字母， vocab中还需要频率\n",
    "        #更新原句l o-->lo\n",
    "        vocab_out = {}\n",
    "        bigram = ' '.join(pair)#l o \n",
    "        replacement = ''.join(pair)#lo\n",
    "        for word, freq in vocab_in.items():\n",
    "            new_word = word.replace(bigram,replacement)\n",
    "            vocab_out[new_word]=vocab_in[word]\n",
    "        return vocab_out\n",
    "    \n",
    "    def fit(self, corpus):\n",
    "        self.vocab = self.get_vocab(corpus)\n",
    "        for i in range(self.vocab_size):\n",
    "            pairs = self.get_stats(self.vocab)\n",
    "            if not pairs:\n",
    "                break\n",
    "            #取最高的频率的pair进行合并\n",
    "            best_pair = max(pairs.keys(), key = lambda k: pairs[k])#return pair\n",
    "            self.vocab = self.merge_vocab(best_pair,self.vocab)\n",
    "            self.bpe_codes[best_pair]=len(self.bpe_codes)\n",
    "    def encode(self,word):\n",
    "        word = ' '.join(list(word)) + ' </w>' \n",
    "        while True:\n",
    "            pairs = self.get_stats({word:1})\n",
    "            candidates = [p for p in pairs if p in self.bpe_codes]\n",
    "            if not candidates:\n",
    "                break\n",
    "            prior = min(candidates, key = lambda k: self.bpe_codes[k])\n",
    "            word = self.merge_vocab(prior,{word:1})\n",
    "            word = list(word.keys())[0]\n",
    "        return word.split()\n",
    "    \n",
    "    def decode(self,tokens):#[low</w>, low, l, y</w>]\n",
    "        return ''.join(tokens).replace('</w>',' ')\n",
    "\n",
    "        \n",
    "corpus =['low low low lowly lower newer newer','happy dog happy cat']\n",
    "Tokenizer=BPETokenizer(5)\n",
    "Tokenizer.fit(corpus)\n",
    "print(\"vocab:\",Tokenizer.vocab)\n",
    "print('bpe_code:',Tokenizer.bpe_codes)\n",
    "print(Tokenizer.decode(['low</w>', 'low', 'l', 'y</w>']))\n",
    "print(Tokenizer.encode('hilowest'))"
   ]
  },
  {
   "cell_type": "code",
   "execution_count": null,
   "id": "9fdba60a-9df9-47b6-b189-b0c0b4cb057a",
   "metadata": {},
   "outputs": [],
   "source": []
  }
 ],
 "metadata": {
  "kernelspec": {
   "display_name": "Python 3 (ipykernel)",
   "language": "python",
   "name": "python3"
  },
  "language_info": {
   "codemirror_mode": {
    "name": "ipython",
    "version": 3
   },
   "file_extension": ".py",
   "mimetype": "text/x-python",
   "name": "python",
   "nbconvert_exporter": "python",
   "pygments_lexer": "ipython3",
   "version": "3.12.11"
  }
 },
 "nbformat": 4,
 "nbformat_minor": 5
}
